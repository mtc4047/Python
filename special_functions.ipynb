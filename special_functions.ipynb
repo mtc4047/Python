{
 "cells": [
  {
   "cell_type": "markdown",
   "metadata": {
    "collapsed": true,
    "pycharm": {
     "name": "#%% md\n"
    }
   },
   "source": [
    "# Funkcje specjalne (_dunder methods_)\n",
    "\n",
    "Wyrażenie:\n",
    "\n",
    "`c = a + b`\n",
    "\n",
    "zawiera trzy zmienne, operator przypisania oraz binarny operator sumy. W przypadku, gdy zmienne `a`,`b`,`c` są zmiennymi typu prostego jak `int`, `float`, Python zawiera operator sumy w bibliotece standardowej, który zostanie użyty. W przypadku, gdy `a`, `b` i `c` byłyby nowego typu, operatory należałoby zdefiniować w ramach tego typu. Język Python zawiera znacznie więcej możliwości pod względem syntaktyki. Przykładowo, aby klasa obsługiwała następujące operacje:\n",
    "\n",
    "c = a + b\n",
    "\n",
    "c()\n",
    "\n",
    "Pod względem logicznym klasa musi zawierać co najmniej zdefiniowany operator sumy oraz funkcję `__call__`, której obsługa zostanie wywołania w momencie użycia nawiasów. W tym miejscu należy pamiętać o czytelności kodu. Zasada jest dokładnie taka sama jak w przypadku definiowania operatorów, własne funkcje specjalne i operatory muszą mieć logiczne uzasadnienie tzn. ich użycie nie powinno być mylące. W tym laboratorium zostanie omówiony sposób definiowania własnych operatorów oraz inne mechanizmy pokrewne.\n",
    "\n",
    "## Funkcja `__call__`\n",
    "\n",
    "Umożliwia tworzenie syntaktycznej konstrukcji podobnej do wywołania funkcji."
   ]
  },
  {
   "cell_type": "code",
   "execution_count": 10,
   "outputs": [
    {
     "output_type": "stream",
     "name": "stdout",
     "text": [
      "test\n"
     ]
    }
   ],
   "source": [
    "class Strip:\n",
    "\n",
    "    def __init__(self, characters):\n",
    "        self.characters = characters\n",
    "\n",
    "    def __call__(self, string: str):\n",
    "        return string.strip(self.characters)\n",
    "\n",
    "strip = Strip('~')\n",
    "print(strip('~test~'))"
   ],
   "metadata": {
    "collapsed": false,
    "pycharm": {
     "name": "#%%\n"
    }
   }
  },
  {
   "cell_type": "markdown",
   "source": [
    "## Funkcja `__getattr__`, `__setattr__` i `__hasattr`\n",
    "\n",
    "Funkcja `__getattr__` wywoływana jest jedynie, gdy klasa nie ma takiej zmiennej, więc jest to miejsce, w którym łatwo umieścić logikę związaną z brakującym atrybutem. Może również przydać się jako mechanizm tworzenia dynamicznych typów. Pokrewna funkcja `__getattribute__` wywoływana jest zawsze bez względu na to czy atrybut istnieje czy nie."
   ],
   "metadata": {
    "collapsed": false,
    "pycharm": {
     "name": "#%% md\n"
    }
   }
  },
  {
   "cell_type": "code",
   "execution_count": 11,
   "outputs": [
    {
     "output_type": "stream",
     "name": "stdout",
     "text": [
      "/tmp\n/tmp\n"
     ]
    }
   ],
   "source": [
    "class Settings:\n",
    "    sett_map = {\n",
    "        'path': lambda self: self._path\n",
    "    }\n",
    "\n",
    "    def __init__(self, path):\n",
    "        self._path = path\n",
    "\n",
    "    def __getattr__(self, attr):\n",
    "        return Settings.sett_map[attr](self)\n",
    "\n",
    "setting = Settings('/tmp')\n",
    "print(setting.path)\n",
    "\n",
    "class Const:\n",
    "\n",
    "    def __setattr__(self, name, value):\n",
    "        if name in self.__dict__:\n",
    "            raise ValueError(\"Cannot change a const attribute\")\n",
    "\n",
    "        self.__dict__[name] = value\n",
    "\n",
    "    def __delattr__(self, name):\n",
    "        if name in self.__dict__:\n",
    "            raise ValueError(\"Cannot delete a const attribute\")\n",
    "        raise AttributeError(\"'{0}' object has no attribute '{1}'\"\n",
    "                             .format(self.__class__.__name__, name))\n",
    "\n",
    "Const.path = '/tmp'\n",
    "print(Const.path)"
   ],
   "metadata": {
    "collapsed": false,
    "pycharm": {
     "name": "#%%\n"
    }
   }
  },
  {
   "cell_type": "markdown",
   "source": [
    "Powyższy przykład składa się z dwóch klas. Pierwsza z nich symuluje prosty sposób użycia atrybutów. Konfiguracja może zawierać różne opcje, co uzasadnia użycie dynamicznych zmiennych. W drugiej klasie można zauważyć sposób przechowywania wszystkich zmiennych w języku Python, tj. za pomocą słownika `__dict__`, który jest składnikiem każdej klasy. Funkcja `__hasattr__` zwraca wartość typu `bool`, jeśli istnieje dana zmienna w klasie.\n",
    "\n",
    "## Funkcja `__get__`, `__set__` i `__delete__`\n",
    "\n",
    "Użycie jest bardzo podobne jak w przypadku zestawu `__getattr__`, `__setattr__` i `__hasattr` z tą różnicą, że dotyczy implementacji właściwości, które zawierają _getter_ i _setter_. Dodatkowo inna jest sygnatura tych funkcji. Do obsługi należy zdefiniować dwie klasy. Jedna zawierająca zaimplementowane funkcje `__getattr__`, `__setattr__` oraz druga, która zawiera użycie pierwszej zdefiniowanej klasy."
   ],
   "metadata": {
    "collapsed": false,
    "pycharm": {
     "name": "#%% md\n"
    }
   }
  },
  {
   "cell_type": "code",
   "execution_count": 12,
   "outputs": [
    {
     "output_type": "stream",
     "name": "stdout",
     "text": [
      "3.141592653589793\n180.0\n"
     ]
    }
   ],
   "source": [
    "import math\n",
    "\n",
    "class Degree:\n",
    "    def __init__(self, value=0.0):\n",
    "        self.value = float(value)\n",
    "\n",
    "    def __get__(self, instance, owner):\n",
    "        return self.value\n",
    "\n",
    "    def __set__(self, instance, value):\n",
    "        self.value = float(value)\n",
    "\n",
    "class Radian:\n",
    "    def __get__(self, instance, owner):\n",
    "        return math.radians(instance.degree)\n",
    "\n",
    "    def __set__(self, instance, value):\n",
    "        instance.degree = math.degrees(value)\n",
    "\n",
    "\n",
    "\n",
    "class RadianDegreeCalculator:\n",
    "    degree = Degree()\n",
    "    radian = Radian()\n",
    "\n",
    "calc = RadianDegreeCalculator()\n",
    "calc.degree = 180.0\n",
    "print(calc.radian)\n",
    "calc.radian = math.pi\n",
    "print(calc.degree)"
   ],
   "metadata": {
    "collapsed": false,
    "pycharm": {
     "name": "#%%\n"
    }
   }
  },
  {
   "cell_type": "markdown",
   "source": [
    "Wzorcową jednostką są stopnie. Konwerter zmienia jedynie radiany na stopnie w przypadku przypisania wartości dla radianów i zmianę ze stopni na radiany w przypadku próby odczytu właściwości. Dodatkowo zarówno w klasie `Degree` oraz `Radian` w momencie wywołania `__get__` i `__set__` implementacja właściwości przekazuje bieżącą instancję klasy `RadianDegreeCalculator` (typ używa obu klas). Funkcja `__delete__` wywoływana jest w momencie wywołania właściwości ze słowem kluczowym `del`.\n",
    "\n",
    "## Funkcja `__new__` i `__del__`\n",
    "\n",
    "Funkcje są wywoływane w momencie kolejno, przed tworzeniem instancji klasy oraz w momencie zwolnienia obiektu (`del obj`). Funkcja `__new__` umożliwia kontrolowanie sposobu tworzenia klasy np. zmianę typu."
   ],
   "metadata": {
    "collapsed": false,
    "pycharm": {
     "name": "#%% md\n"
    }
   }
  },
  {
   "cell_type": "code",
   "execution_count": 13,
   "outputs": [
    {
     "output_type": "stream",
     "name": "stdout",
     "text": [
      "Teacher\nStudent\n"
     ]
    }
   ],
   "source": [
    "class Student:\n",
    "    def __init__(self):\n",
    "        print('Student')\n",
    "\n",
    "class Teacher:\n",
    "    def __init__(self):\n",
    "        print('Teacher')\n",
    "\n",
    "class Person:\n",
    "    def __new__(cls, *args, **kwargs):\n",
    "        if 'salary' in kwargs:\n",
    "            return Teacher()\n",
    "        else:\n",
    "            return Student()\n",
    "\n",
    "person = Person(salary=0)\n",
    "person = Person(exams_count=math.nan)"
   ],
   "metadata": {
    "collapsed": false,
    "pycharm": {
     "name": "#%%\n"
    }
   }
  },
  {
   "cell_type": "markdown",
   "source": [
    "## Słownik `__slots__`, `__dict__`, `__class__`\n",
    "\n",
    "Temat słownika przechowującego wszystkie zmienne instancji klasy był już poruszany wielokrotnie. Zbiór `__slots__` jest relatywnie nowym pojęciem w języku Python. Umożliwia przekazanie środowisku uruchomieniowemu języka Python informacji o tym jakie zmienne klasa będzie posiadać, tak aby w momencie tworzenia instancji zarezerwować odpowiednią liczbę komórek pamięci. Pozwala to przyspieszyć działanie programu."
   ],
   "metadata": {
    "collapsed": false,
    "pycharm": {
     "name": "#%% md\n"
    }
   }
  },
  {
   "cell_type": "code",
   "execution_count": 14,
   "outputs": [
    {
     "output_type": "stream",
     "name": "stdout",
     "text": [
      "2.0784993171691895\n",
      "2.3575291633605957\n",
      "<class '__main__.TestA'>\n",
      "TestA\n"
     ]
    }
   ],
   "source": [
    "from time import time\n",
    "\n",
    "class TestA:\n",
    "    __slots__ = ['x', 'y', 'z']\n",
    "    def __init__(self, x, y, z):\n",
    "        self.x = x\n",
    "        self.y = y\n",
    "        self.z = z\n",
    "\n",
    "class TestB:\n",
    "    def __init__(self, x, y, z):\n",
    "        self.x = x\n",
    "        self.y = y\n",
    "        self.z = z\n",
    "\n",
    "iterations = 10000000\n",
    "\n",
    "start_time = time()\n",
    "for _ in range(iterations):\n",
    "    TestA(1,2,3)\n",
    "\n",
    "print(time() - start_time)\n",
    "\n",
    "start_time = time()\n",
    "for _ in range(iterations):\n",
    "    TestB(1,2,3)\n",
    "\n",
    "print(time() - start_time)\n",
    "\n",
    "print(TestA(1,2,3).__class__)\n",
    "print(TestA(1,2,3).__class__.__name__)\n"
   ],
   "metadata": {
    "collapsed": false,
    "pycharm": {
     "name": "#%%\n"
    }
   }
  },
  {
   "cell_type": "markdown",
   "source": [
    "Czym większa kolekcja tym różnica czasowa będzie większa. Zmienna wbudowana `__class__` przechowuje informacje o bieżącym typie danych.\n",
    "\n",
    "## Reprezentacje klasy\n",
    "\n",
    "W zależności od metody wyświetlania klasy istnieje możliwość obsługi dedykowanego dla niej formatowania. Technika przedefiniowana przynajmniej funkcji `__str__` przydaje się w trakcie debugowania. Wiele edytorów kodu języka Python używają tej informacji (okno _popup_ po najechaniu kursorem myszy na zmienną).\n",
    "\n",
    "| Nazwa funkcji | Opis | Przykład użycia |\n",
    "|-|-|-|\n",
    "| `__format__(self, spec)` | Do obsługi funkcji formatującej `format`. W zmiennej `spec` mogą pojawić się różne opcje. | `format(obj, 'f')`\n",
    "| `__bytes__(self)` | Przydatne do serializacji binarnej. | `bytes(obj)`\n",
    "| `__str__(self)` | Należy zwrócić łańcuch znaków, który ma się pojawić w momencie konwersji klasy na łańcuch znaków. | `str(obj)` |\n",
    "| `__repr__(self)` | Co ma zostać zwrócone po wywołaniu funkcji wbudowanej `repr`. | `repr(obj)` |"
   ],
   "metadata": {
    "collapsed": false,
    "pycharm": {
     "name": "#%% md\n"
    }
   }
  },
  {
   "cell_type": "code",
   "execution_count": 15,
   "outputs": [
    {
     "output_type": "stream",
     "name": "stdout",
     "text": [
      "Jan Kowalski\nJan Kowalski\n"
     ]
    }
   ],
   "source": [
    "class Student:\n",
    "    def __init__(self, name: str, surname: str):\n",
    "        self.name = name\n",
    "        self.surname = surname\n",
    "\n",
    "    def __str__(self):\n",
    "        return f'{self.name} {self.surname}'\n",
    "\n",
    "\n",
    "print(Student('Jan', 'Kowalski'))\n",
    "student = Student('Jan', 'Kowalski')\n",
    "print(f'{student}')"
   ],
   "metadata": {
    "collapsed": false,
    "pycharm": {
     "name": "#%%\n"
    }
   }
  },
  {
   "cell_type": "markdown",
   "source": [
    "Należy w tym miejscu podkreślić, że wiele funkcji wbudowanych bazuje na tych funkcjach, co umożliwia własnemu typowi na interakcje z nimi.\n",
    "\n",
    "## Operatory porównania\n",
    "\n",
    "Poniżej znajduje się tabela przedstawiająca najważniejsze operatory używane w instrukcjach warunkowych oraz funkcja `hash`.\n",
    "\n",
    "| Nazwa funkcji | Opis |\n",
    "|-|-|\n",
    "`obj.__lt__(self.obj2)` | `x < y` |\n",
    "`obj.__le__(self.obj2)` | `x <= y` |\n",
    "`obj.__gt__(self.obj2)` | `x > y` |\n",
    "`obj.__ge__(self.obj2)` | `x>= y` |\n",
    "`obj.__eq__(self.obj2)` | `x == y` |\n",
    "`obj.__ne__(self.obj2)` | `x != y` |\n",
    "`obj.__bool__(self)` | `bool(x)` |\n",
    "`obj.__hash__(self)` | `hash(x)` |\n",
    "`obj.__add__` | `obj1 + obj2` |\n",
    "`obj.__sub__` | `obj1 - obj2` |\n",
    "\n",
    "Funkcja `hash` jest szczególnie istotna z punktu widzenia słowników i w momencie gdy klasa ta ma być kluczem w słowniku. Zostanie wywołana na instancji, przed próbą dodania nowego elementu do słownika. Na powyższej tabeli pokazano jedynie dwa operatory binarne. Ich lista jest znacznie bardziej obszerna i składa się ze wszystkich operatorów jakie są dostępne w języku Python."
   ],
   "metadata": {
    "collapsed": false,
    "pycharm": {
     "name": "#%% md\n"
    }
   }
  },
  {
   "cell_type": "code",
   "execution_count": 16,
   "outputs": [
    {
     "output_type": "stream",
     "name": "stdout",
     "text": [
      "Yes\nNo\nTrue\n1\n2\n"
     ]
    }
   ],
   "source": [
    "class Test:\n",
    "    def __init__(self, x: int):\n",
    "        self.x = x\n",
    "\n",
    "    def __bool__(self):\n",
    "        return isinstance(self.x, int)\n",
    "\n",
    "    def __lt__(self, other):\n",
    "        return self.x < other.x\n",
    "\n",
    "    def __hash__(self):\n",
    "        return self.x\n",
    "\n",
    "if Test(1):\n",
    "    print('Yes')\n",
    "else:\n",
    "    print('No')\n",
    "\n",
    "if Test(1.0):\n",
    "    print('Yes')\n",
    "else:\n",
    "    print('No')\n",
    "\n",
    "print(Test(1) < Test(2))\n",
    "\n",
    "test_dict = { hash(Test(1)): 1, hash(Test(2)): 2 }\n",
    "print(test_dict[hash(Test(1))])\n",
    "print(test_dict[hash(Test(2))])"
   ],
   "metadata": {
    "collapsed": false,
    "pycharm": {
     "name": "#%%\n"
    }
   }
  },
  {
   "cell_type": "markdown",
   "source": [
    "## Operacje na klasie jako kontenerze\n",
    "\n",
    "Dodatkowe operatory, które nie występują w innych językach programowania jak `in` można również zdefiniować w klasie. Poniżej znajduje się przykład użycia klasy `Container`, która symuluje działanie kolekcji."
   ],
   "metadata": {
    "collapsed": false,
    "pycharm": {
     "name": "#%% md\n"
    }
   }
  },
  {
   "cell_type": "code",
   "execution_count": 17,
   "outputs": [
    {
     "output_type": "stream",
     "name": "stdout",
     "text": [
      "in condition check\nTrue\nFalse\nzero element\n0\nContainer as generator\n0\n1\n2\n3\n4\n5\n6\n7\n8\n9\nlen\n10\n"
     ]
    }
   ],
   "source": [
    "class Container:\n",
    "    def __init__(self, n):\n",
    "        self.n = n\n",
    "\n",
    "    def __contains__(self, item):\n",
    "        return -1 < item < self.n\n",
    "\n",
    "    def __getitem__(self, position):\n",
    "        return position\n",
    "\n",
    "    def __setitem__(self, key, value):\n",
    "        raise NotImplemented()\n",
    "\n",
    "    def __iter__(self):\n",
    "        for i in range(self.n):\n",
    "            yield i\n",
    "\n",
    "    def __len__(self):\n",
    "        return self.n\n",
    "\n",
    "\n",
    "container = Container(10)\n",
    "print('in condition check')\n",
    "print(1 in container) # __contains__\n",
    "print(-1 in container) # __contains__\n",
    "print('zero element')\n",
    "print(container[0]) # __getitem__\n",
    "print('Container as generator')\n",
    "for i in container: # __iter__\n",
    "    print(i)\n",
    "\n",
    "print('len')\n",
    "print(len(container)) # __len__"
   ],
   "metadata": {
    "collapsed": false,
    "pycharm": {
     "name": "#%%\n"
    }
   }
  },
  {
   "cell_type": "markdown",
   "source": [
    "## Funkcje `__enter__` i `__exit__`\n",
    "\n",
    "Obie funkcje zostaną wywołane w momencie użycia konstrukcji `with` w języku Python. Funkcja `enter` zaraz po wejściu sterowania programu do __`with`__, a __`exit`__ w momencie opuszczenia bloku. Obie funkcje są zaimplementowane w funkcji standardowej `open`. W funkcji `__enter__` następuje wywołanie odpowiednich funkcji z bibliotek systemu operacyjnego do pobrania uchwytu do pliku, a w `__exit__` wykonanie sekwencji `flush` i `close`, ta ostatnia zwalnia uchwyt, co pozwala innemu programowi o pełny dostęp do pliku.\n",
    "\n",
    "## Zadania do wykonania\n",
    "\n",
    "### Zadanie 1\n",
    "Napisz implementację drzewa wraz ze zdefiniowanymi operatorami jak:\n",
    "- `len` ma zwracać wysokość drzewa,\n",
    "- funkcja `count` ma zwracać liczbę wierzchołków,\n",
    "- operator potęgowania  `__pow__` (`t**2`) ma wstawić losowe wartości, aż funkcja `count` nie będzie zwracać potęgi liczby pierwotnej np. przed `count(t)=3`, `t**2, count(t)=3**2`.\n",
    "- iterator, który umożliwia przegląd wszystkich wierzchołków,\n",
    "- sprawdzenie czy element znajduje się w drzewie za pomocą operatora `in` i `__getitem__`,\n",
    "- zwrócić `False` jeśli drzewo jest puste oraz `True` w przeciwnym przypadku,\n",
    "- dodawać elementy za pomocą `__setitem__` oraz `__lshift__` (operator `t << elem`),\n",
    "- `str` ma zwracać narysowane drzewo,\n",
    "- (opcjonalne) plus ma zwracać nowe drzewo złożone z dwóch,\n",
    "- (opcjonalne) minus ma zwracać nowe drzewo będące różnicą."
   ],
   "metadata": {
    "collapsed": false,
    "pycharm": {
     "name": "#%% md\n"
    }
   }
  },
  {
   "source": [
    "# Zadanie1"
   ],
   "cell_type": "markdown",
   "metadata": {}
  },
  {
   "cell_type": "code",
   "execution_count": 18,
   "metadata": {},
   "outputs": [
    {
     "output_type": "stream",
     "name": "stdout",
     "text": [
      "Czy drzewo nie jest puste?: False\nWysokość drzewa wynosi: 2\nIlość wierzchołków wynosi: 3\nWierzchołki:\n7\n-14\n18\nIlość wierzchołków wynosi: 9\nCzy liczba 3 znajduje się w drzewie?: True\nCzy liczba 25 znajduje się w drzewie?: False\nCzy drzewo nie jest puste?: True\n7 -> -14, 18\n\t-14 -> -17, -14\n\t\t-17 -> -19, -15\n\t\t\t-19 -> None, -19\n\t\t\t\t-19 -> None, None\n\t\t\t-15 -> None, None\n\t\t-14 -> None, 5\n\t\t\t5 -> 3, None\n\t\t\t\t3 -> None, None\n\t18 -> 11, None\n\t\t11 -> None, None\n\n"
     ]
    }
   ],
   "source": [
    "from collections import namedtuple\n",
    "from random import Random\n",
    "from typing import Iterator \n",
    "\n",
    "class Tree:\n",
    "    TreeNode = namedtuple('TreeNode', ['val', 'children'])\n",
    "    rand = Random() \n",
    "    TreeNodes = []\n",
    "    TreeString =''\n",
    "    ROOT = TreeNode(val=None, children=[None,None])\n",
    "\n",
    "    def __init__(self,rootValue=None):\n",
    "        if rootValue != None:\n",
    "            self.ROOT = self.TreeNode(val=rootValue, children=[None,None])\n",
    "        else:\n",
    "            self.ROOT = None\n",
    "\n",
    "    def __call__(self):\n",
    "        if self.ROOT == None:\n",
    "            return False\n",
    "        else:\n",
    "            return True\n",
    "    def __len__(self):\n",
    "        return self.height(self.ROOT)\n",
    "\n",
    "    def __setitem__(self,parent,item):\n",
    "        self.addElement(parent,item)\n",
    "\n",
    "    def __lshift__(self,item):\n",
    "        self.addElement(self.ROOT,item)\n",
    "\n",
    "    def __pow__(self,exp):\n",
    "        self.power(self.count()**exp)\n",
    "\n",
    "    def __iter__(self):\n",
    "        self.TreeNodes = []\n",
    "        self.levelOrder(self.ROOT)\n",
    "        return iter(self.TreeNodes)\n",
    "\n",
    "    def __getitem__(self,number):\n",
    "        self.TreeNodes = []\n",
    "        self.levelOrder(self.ROOT)\n",
    "        return self.TreeNodes[number]\n",
    "\n",
    "    def __str__(self):        \n",
    "        self.TreeString =''\n",
    "        self.treePrint(self.ROOT)\n",
    "        return self.TreeString\n",
    "\n",
    "    def height(self,parent):\n",
    "        if parent == None:\n",
    "            return 0\n",
    "        heightLeft = self.height(parent.children[0])\n",
    "        heightRight = self.height(parent.children[1])\n",
    "        return max(heightLeft,heightRight) + 1\n",
    "\n",
    "    def count(self):\n",
    "        return self.countNode(self.ROOT)\n",
    "\n",
    "    def countNode(self,parent):\n",
    "        if parent == None:\n",
    "            return 0\n",
    "        return  self.countNode(parent.children[0]) + self.countNode(parent.children[1]) + 1\n",
    "\n",
    "    def power(self,primaryPow):\n",
    "        if primaryPow == self.count(): \n",
    "            pass\n",
    "        else:\n",
    "            self.addElement(self.ROOT,self.rand.randint(-20,20))\n",
    "            return self.power(primaryPow)\n",
    "        \n",
    "    def levelOrder(self,root):\n",
    "        h = self.height(root)\n",
    "        for i in range(1, h+1):\n",
    "            self.currentLevel(root, i)\n",
    " \n",
    "    def currentLevel(self,root , level):\n",
    "        if root is None:\n",
    "            return\n",
    "        if level == 1:\n",
    "            self.TreeNodes.append(root.val)\n",
    "        elif level > 1 :\n",
    "            self.currentLevel(root.children[0], level-1)\n",
    "            self.currentLevel(root.children[1], level-1)\n",
    "            \n",
    "    def addElement(self,parent,number):\n",
    "        if self.ROOT  == None:\n",
    "            self.ROOT = self.TreeNode(val=number, children=[None,None])\n",
    "            return\n",
    "        if parent.val > number:\n",
    "            if parent.children[0] == None:\n",
    "                parent.children[0] = self.TreeNode(val=number, children=[None,None])\n",
    "            else:\n",
    "                self.addElement(parent.children[0],number)\n",
    "        else:\n",
    "            if parent.children[1] == None:\n",
    "                parent.children[1] = self.TreeNode(val=number, children=[None,None])\n",
    "            else:\n",
    "                self.addElement(parent.children[1],number)\n",
    "\n",
    "    def treePrint(self,parent,tab = 0):\n",
    "        self.TreeString += ('\\t'*tab + f'{parent.val} -> {parent.children[0] if(parent.children[0]==None) else parent.children[0].val}, {parent.children[1] if(parent.children[1]==None) else parent.children[1].val}\\n')\n",
    "        if parent.children[0] != None:\n",
    "            self.treePrint(parent.children[0],tab+1)\n",
    "        if parent.children[1] != None:\n",
    "            self.treePrint(parent.children[1],tab+1) \n",
    "\n",
    "tree = Tree()\n",
    "rand = Random()\n",
    "\n",
    "print(f'Czy drzewo nie jest puste?: {tree()}')\n",
    "for i in range(3):\n",
    "     tree.addElement(tree.ROOT,rand.randint(-20,20))\n",
    "print(f'Wysokość drzewa wynosi: {len(tree)}')\n",
    "print(f'Ilość wierzchołków wynosi: {tree.count()}')\n",
    "print('Wierzchołki:')\n",
    "for i in tree:\n",
    "    print(i)\n",
    "pow(tree,2)\n",
    "print(f'Ilość wierzchołków wynosi: {tree.count()}')\n",
    "tree << 3\n",
    "print(f'Czy liczba 3 znajduje się w drzewie?: {3 in tree}')\n",
    "print(f'Czy liczba 25 znajduje się w drzewie?: {25 in tree}')\n",
    "tree[tree.ROOT] = 11\n",
    "print(f'Czy drzewo nie jest puste?: {tree()}')\n",
    "print(tree)"
   ]
  },
  {
   "cell_type": "code",
   "execution_count": null,
   "metadata": {},
   "outputs": [],
   "source": []
  }
 ],
 "metadata": {
  "kernelspec": {
   "name": "python3",
   "display_name": "Python 3.9.2 64-bit"
  },
  "language_info": {
   "codemirror_mode": {
    "name": "ipython",
    "version": 2
   },
   "file_extension": ".py",
   "mimetype": "text/x-python",
   "name": "python",
   "nbconvert_exporter": "python",
   "pygments_lexer": "ipython2",
   "version": "3.9.2"
  },
  "interpreter": {
   "hash": "2232cce0feda495dbaab39ecfda12b4e9c75df0181da683c6fd0c1aaa6fdea1a"
  }
 },
 "nbformat": 4,
 "nbformat_minor": 0
}