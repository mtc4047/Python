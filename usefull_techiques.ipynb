{
 "cells": [
  {
   "cell_type": "markdown",
   "metadata": {
    "collapsed": true,
    "pycharm": {
     "name": "#%% md\n"
    }
   },
   "source": [
    "# Przydatne techniki\n",
    "\n",
    "W tym laboratorium główny nacisk zostanie położony na obsługę wejścia/wyjścia, obsługa popularnych formatów w języku Python (_Excel_/_JSON_/_Parquet_) oraz operacje związane przeglądanie plików i katalogów w systemie plików. Język Python jest niezależny od systemu operacyjnego, który definiuje w jaki sposób fizycznie obsługiwane są pliki. Wiele wysiłku włożono w utworzenie warstwy abstrakcji, która pośredniczy w wywoływaniu funkcji systemowych. Z tego też powodu łączenie katalogu i kolejnych podkatalogów wymaga użycia odpowiedniej funkcji, nie zwykłej konkatenacji łańcuchów znaków zawierających kolejne katalogi. Dodatkowo zostaną przedstawione tematy pokrewne, jak obsługa plikowej bazy danych `sqlite` (transakcyjnej i spełniającej zasady _ACID_) przy użyciu _ORM_ (Object-relational mapping), do czego zostanie użyty moduł `SqlAlchemy` oraz serializacja, deserializacja obiektów przy użyciu modułu `pickle`.\n",
    "\n",
    "## System plików\n",
    "\n",
    "Pierwszym przykładem użycia Pythona do obsługi systemu plików będzie rekurencyjne wyświetlenie listy plików. Do tego celu można użyć bardzo przydatnej funkcji `os.walk`, która wyświetla wszystkie pliki i podkatalogi w katalogu podanym w parametrze. Wszystkie nazwy przekazane z funkcji nie zawierają pełnej ścieżki, a jedynie jej relatywną część. W wielu przypadkach potrzebna jest absolutna ścieżka do bieżącego katalogu. Do jej pobrania można użyć wbudowanej funkcji `os.getcwd()` (akronim od _get current working directory_)."
   ]
  },
  {
   "cell_type": "code",
   "execution_count": 1,
   "metadata": {
    "pycharm": {
     "name": "#%%\n"
    }
   },
   "outputs": [
    {
     "name": "stdout",
     "output_type": "stream",
     "text": [
      "/home/jovyan/work/usefull_techiques.ipynb\n",
      "/home/jovyan/work/.ipynb_checkpoints/usefull_techiques-checkpoint.ipynb\n",
      "/home/jovyan/work/.ipynb_checkpoints/usefull_techiques-checkpoint.ipynb\n"
     ]
    }
   ],
   "source": [
    "from os import getcwd, walk\n",
    "from os.path import join\n",
    "\n",
    "def get_files(folder):\n",
    "    for folderName, sub_folders, files_names in walk(folder):\n",
    "        for file_name in files_names:\n",
    "            print(join(folderName, file_name))\n",
    "        for sub_folder in sub_folders:\n",
    "            get_files(join(folder, sub_folder))\n",
    "\n",
    "get_files(getcwd())"
   ]
  },
  {
   "cell_type": "markdown",
   "metadata": {
    "pycharm": {
     "name": "#%% md\n"
    }
   },
   "source": [
    "W linii 6 została użyta funkcja `join` modułu `os.path`. Służy do konkatenacji wielu folderów, które składają się na pełną ścieżkę.\n",
    "\n",
    "Poniższa lista zawiera zestaw funkcji przydatnych do obsługi plików i katalogów na poziomie systemy plików.\n",
    "\n",
    "| Nazwa funkcji | Opis | Przykład użycia |\n",
    "|-|-|-|\n",
    "| `shutil.copy` | Funkcja umożliwia kopiowanie pojedynczych plików. | `shutil.copy(full_path_src, full_path_dest)` |\n",
    "| `shutil.copytree` | Funkcja umożliwia kopiowanie całych katalogów wraz z zawartością. | `shutil.copytree(path_src, path_dest)` |\n",
    "| `shutil.move` | Funkcja umożliwia zmianę nazwy pliku oraz przenoszenie pliku do innego katalogu. | `shutil.move(path_src, path_dest)` |\n",
    "| `shutil.rmtree` | Funkcja umożliwia kasowanie katalogu wraz z zawartością. | `shutil.rmtree(path)` |\n",
    "| `os.unlink` | Funkcja umożliwia kasowanie pliku. | `shutil.unlink(path)` |\n",
    "| `os.path.splitext` | Zwraca tuple na, którą składa się nazwa pliku oraz jego rozszerzenie. W przypadku, gdy podany plik zawiera pełną ścieżkę, zostanie ona zwrócona jako część nazwy pliku. | `file_name, ext = os.path.splitext(file_name)` |\n",
    "\n",
    "\n",
    "Tworzenie bezpiecznych plików tymczasowych jest bardzo przydatne szczególnie w testach jednostkowych. W języku Python dostępny jest moduł `tempfile`, który znacznie ułatwia tworzenie tego typu plików. Funkcje `mkdtemp` i `mktemp` służą kolejno do tworzenia tymczasowego katalogu i pliku."
   ]
  },
  {
   "cell_type": "code",
   "execution_count": 19,
   "metadata": {
    "pycharm": {
     "name": "#%%\n"
    }
   },
   "outputs": [
    {
     "name": "stdout",
     "output_type": "stream",
     "text": [
      "Saving file to: C:\\Users\\LUKASZ~1\\AppData\\Local\\Temp\\tmp0pmza_f1\n",
      "Success\n"
     ]
    }
   ],
   "source": [
    "from tempfile import mkdtemp\n",
    "from shutil import rmtree\n",
    "from os.path import join\n",
    "temp_dir = mkdtemp()\n",
    "try:\n",
    "    print(f'Saving file to: {temp_dir}')\n",
    "    with open(join(temp_dir, 'file.txt'), 'w+') as f:\n",
    "        f.write('Test')\n",
    "        f.flush()\n",
    "finally:\n",
    "    rmtree(temp_dir)\n",
    "\n",
    "print('Success')"
   ]
  },
  {
   "cell_type": "markdown",
   "metadata": {
    "pycharm": {
     "name": "#%% md\n"
    }
   },
   "source": [
    "W powyższym kodzie to programista jest odpowiedzialny za zwalnianie pliku/katalogu tymczasowego. Moduł `tempfile` umożliwia tworzenie plików, które w momencie opuszczenia bloku kodu, zostaną zwolnione automatycznie."
   ]
  },
  {
   "cell_type": "code",
   "execution_count": 21,
   "metadata": {
    "pycharm": {
     "name": "#%%\n"
    }
   },
   "outputs": [
    {
     "name": "stdout",
     "output_type": "stream",
     "text": [
      "Fle C:\\Users\\LUKASZ~1\\AppData\\Local\\Temp\\tmp82e50cic exists: True\n",
      "Fle C:\\Users\\LUKASZ~1\\AppData\\Local\\Temp\\tmp82e50cic exists: False\n"
     ]
    }
   ],
   "source": [
    "from tempfile import NamedTemporaryFile\n",
    "from os.path import exists\n",
    "\n",
    "file_name = None\n",
    "with NamedTemporaryFile('w+') as f:\n",
    "    f.write('test')\n",
    "    file_name = f.name\n",
    "    print(f'Fle {file_name} exists: {exists(file_name)}')\n",
    "\n",
    "print(f'Fle {file_name} exists: {exists(file_name)}')"
   ]
  },
  {
   "cell_type": "markdown",
   "metadata": {
    "pycharm": {
     "name": "#%% md\n"
    }
   },
   "source": [
    "Dość istotny jest tutaj fakt, że gdy plik zostanie zamknięty funkcją `f.close()`, zostanie skasowany. W przypadku katalogu można użyć klasy `tempfile.TemporaryDirectory`, której schemat użycia jest taki sam.\n",
    "\n",
    "## Obsługa formatów plików\n",
    "\n",
    "### Format `Xlsx`\n",
    "\n",
    "Moduł `openpyxl` pozwala na obsługę formatu plików `xlsx`. Z tego samego modułu korzysta również bardzo popularny moduł `pandas`, który umożliwia unifikację przetwarzania danych bez względu na format źródłowy. Moduł `openpyxl` nie znajduje się na liście modułów standardowych i należy go doinstalować za pomocą polecenia `pip install openpyxl`."
   ]
  },
  {
   "cell_type": "code",
   "execution_count": 2,
   "metadata": {
    "pycharm": {
     "name": "#%%\n"
    }
   },
   "outputs": [
    {
     "ename": "ModuleNotFoundError",
     "evalue": "No module named 'openpyxl'",
     "output_type": "error",
     "traceback": [
      "\u001b[0;31m---------------------------------------------------------------------------\u001b[0m",
      "\u001b[0;31mModuleNotFoundError\u001b[0m                       Traceback (most recent call last)",
      "\u001b[0;32m<ipython-input-2-e2c80bcf1845>\u001b[0m in \u001b[0;36m<module>\u001b[0;34m\u001b[0m\n\u001b[0;32m----> 1\u001b[0;31m \u001b[0;32mfrom\u001b[0m \u001b[0mopenpyxl\u001b[0m \u001b[0;32mimport\u001b[0m \u001b[0mWorkbook\u001b[0m\u001b[0;34m,\u001b[0m \u001b[0mload_workbook\u001b[0m\u001b[0;34m\u001b[0m\u001b[0;34m\u001b[0m\u001b[0m\n\u001b[0m\u001b[1;32m      2\u001b[0m \u001b[0;32mfrom\u001b[0m \u001b[0mtyping\u001b[0m \u001b[0;32mimport\u001b[0m \u001b[0mDict\u001b[0m\u001b[0;34m\u001b[0m\u001b[0;34m\u001b[0m\u001b[0m\n\u001b[1;32m      3\u001b[0m \u001b[0;32mfrom\u001b[0m \u001b[0mtempfile\u001b[0m \u001b[0;32mimport\u001b[0m \u001b[0mmktemp\u001b[0m\u001b[0;34m\u001b[0m\u001b[0;34m\u001b[0m\u001b[0m\n\u001b[1;32m      4\u001b[0m \u001b[0;32mfrom\u001b[0m \u001b[0mitertools\u001b[0m \u001b[0;32mimport\u001b[0m \u001b[0mproduct\u001b[0m\u001b[0;34m\u001b[0m\u001b[0;34m\u001b[0m\u001b[0m\n\u001b[1;32m      5\u001b[0m \u001b[0;32mfrom\u001b[0m \u001b[0mos\u001b[0m \u001b[0;32mimport\u001b[0m \u001b[0munlink\u001b[0m\u001b[0;34m\u001b[0m\u001b[0;34m\u001b[0m\u001b[0m\n",
      "\u001b[0;31mModuleNotFoundError\u001b[0m: No module named 'openpyxl'"
     ]
    }
   ],
   "source": [
    "from openpyxl import Workbook, load_workbook\n",
    "from typing import Dict\n",
    "from tempfile import mktemp\n",
    "from itertools import product\n",
    "from os import unlink\n",
    "\n",
    "def describe(file_name, sheet_name):\n",
    "    wb = load_workbook(file_name)\n",
    "    print(f'Sheets: {wb.sheetnames}')\n",
    "    print(f'Filled rows: {wb[sheet_name].max_row}')\n",
    "    print(f'Filled columns: {wb[sheet_name].max_column}')\n",
    "    for cell in product(['A', 'B'], ['1', '2', '3']):\n",
    "        cell_s = \"\".join(cell)\n",
    "        print(f'Cell: {cell_s}: {wb[sheet_name][cell_s].value}')\n",
    "    # można też użyć\n",
    "    # for coll_obj in list(wb[sheet_name].columns)[0]:\n",
    "    #     print(f'Cell: {coll_obj.value}')\n",
    "    # lub\n",
    "    # wb[sheet_name].cell(row=1, column=1).value\n",
    "\n",
    "def create(data: Dict[str, int], file_name, sheet_name):\n",
    "    wb = Workbook()\n",
    "    sheet = wb.create_sheet(sheet_name)\n",
    "    for cell_key, cell_value in data.items():\n",
    "        sheet[cell_key] = cell_value\n",
    "    wb.save(file_name)\n",
    "\n",
    "file_name = mktemp(suffix='.xlsx')\n",
    "\n",
    "print(f'Using file: {file_name}')\n",
    "\n",
    "try:\n",
    "    data = { 'A1': 10, 'A2': 20, 'A3': 30, 'B1': 11, 'B2': 12, 'B3': 13 }\n",
    "    create(data, file_name, 'test')\n",
    "    describe(file_name, 'test')\n",
    "\n",
    "finally:\n",
    "    unlink(file_name)"
   ]
  },
  {
   "cell_type": "markdown",
   "metadata": {
    "pycharm": {
     "name": "#%% md\n"
    }
   },
   "source": [
    "Przypisując odpowiedniej komórce formułę w postaci łańcucha znaków tj. `sheet['A4'] = '=SUM(A1:A3)'` tworzymy formułę wyliczaną automatycznie. W module `openpyxl.utils` można znaleźć między innymi dwie funkcje konwertujące liczby na litery i odwrotnie, co ułatwia iterowanie między komórkami."
   ]
  },
  {
   "cell_type": "code",
   "execution_count": 36,
   "metadata": {
    "pycharm": {
     "name": "#%%\n"
    }
   },
   "outputs": [
    {
     "name": "stdout",
     "output_type": "stream",
     "text": [
      "Letters:\n",
      "A,B,C,D,E,F,G,H,I,J,K,L,M,N,O,P,Q,R,S,T,U,V,W,X,Y,Z,AA,AB,AC,AD,AE,AF,AG,AH,AI,AJ,AK,AL,AM,AN,AO,AP,AQ,AR,AS,AT,AU,AV,AW,AX,AY,AZ,BA,BB,BC,BD,BE,BF,BG,BH,BI,BJ,BK,BL,BM,BN,BO,BP,BQ,BR,BS,BT,BU,BV,BW,BX,BY,BZ,CA,CB,CC,CD,CE,CF,CG,CH,CI,CJ,CK,CL,CM,CN,CO,CP,CQ,CR,CS,CT,CU\n",
      "1\n",
      "28\n",
      "731\n"
     ]
    }
   ],
   "source": [
    "from openpyxl.utils import get_column_letter, column_index_from_string\n",
    "\n",
    "print('Letters:')\n",
    "print(\",\".join([get_column_letter(i) for i in range(1, 100)]))\n",
    "print(column_index_from_string('A'))\n",
    "print(column_index_from_string('AB'))\n",
    "print(column_index_from_string('ABC'))"
   ]
  },
  {
   "cell_type": "markdown",
   "metadata": {
    "pycharm": {
     "name": "#%% md\n"
    }
   },
   "source": [
    "### Format _JSON_\n",
    "\n",
    "Wczytywanie i zapisywanie formatu _JSON_ polega głównie na operowaniu na słownikach. Funkcja `loads` zwraca słownik na podstawie przekazanego łańcucha znaków w formacie _JSON_. Z kolei funkcja `dumps` zapisuje słownik w tym formacie. Można również użyć funkcji `load` i `dump`, która oczekuje strumienia do pliku zapisanego w formacie _JSON_ (otwarcie strumienia następuje w funkcji `open`)."
   ]
  },
  {
   "cell_type": "code",
   "execution_count": 43,
   "metadata": {
    "pycharm": {
     "name": "#%%\n"
    }
   },
   "outputs": [
    {
     "name": "stdout",
     "output_type": "stream",
     "text": [
      "File name: test\n",
      "Is zipped: False\n",
      "Dumped: {\"file_name\": \"test\", \"is_zipped\": false}\n"
     ]
    }
   ],
   "source": [
    "from json import loads, dumps\n",
    "\n",
    "json_dict = loads('{ \"file_name\": \"test\", \"is_zipped\": false }')\n",
    "print(f'File name: {json_dict[\"file_name\"]}')\n",
    "print(f'Is zipped: {json_dict[\"is_zipped\"]}')\n",
    "print(f'Dumped: {dumps(json_dict)}')"
   ]
  },
  {
   "cell_type": "markdown",
   "metadata": {
    "pycharm": {
     "name": "#%% md\n"
    }
   },
   "source": [
    "Warto w tym miejscu należy zwrócić uwagę na konwersję typów. Wartość typu `bool` w formacie _JSON_ została skonwertowana na odpowiednik w języku Python.\n",
    "\n",
    "### Format _Parquet_\n",
    "\n",
    "Format `Parquet` jest używany m. in. w _Apache Spark_ (_PySpark_) czy module `pandas` i jest jednym z podstawowych formatów w ekosystemie firmy _Apache_. Pod względem struktury jest to format binarny, kolumnowy z silnym typowaniem danych. W bibliotece standardowej nie ma obsługi tego formatu, jednak znajduje się wiele implementacji w `pip`. Przykłady utylizują bibliotekę `fastparquet`, a do tworzenia bibliotekę `pandas`."
   ]
  },
  {
   "cell_type": "code",
   "execution_count": 7,
   "metadata": {
    "pycharm": {
     "name": "#%%\n"
    }
   },
   "outputs": [
    {
     "ename": "ModuleNotFoundError",
     "evalue": "No module named 'fastparquet'",
     "output_type": "error",
     "traceback": [
      "\u001b[0;31m---------------------------------------------------------------------------\u001b[0m",
      "\u001b[0;31mModuleNotFoundError\u001b[0m                       Traceback (most recent call last)",
      "\u001b[0;32m<ipython-input-7-7028a3d4c805>\u001b[0m in \u001b[0;36m<module>\u001b[0;34m\u001b[0m\n\u001b[1;32m      2\u001b[0m \u001b[0;32mfrom\u001b[0m \u001b[0mtempfile\u001b[0m \u001b[0;32mimport\u001b[0m \u001b[0mmktemp\u001b[0m\u001b[0;34m\u001b[0m\u001b[0;34m\u001b[0m\u001b[0m\n\u001b[1;32m      3\u001b[0m \u001b[0;32mfrom\u001b[0m \u001b[0mos\u001b[0m \u001b[0;32mimport\u001b[0m \u001b[0munlink\u001b[0m\u001b[0;34m\u001b[0m\u001b[0;34m\u001b[0m\u001b[0m\n\u001b[0;32m----> 4\u001b[0;31m \u001b[0;32mfrom\u001b[0m \u001b[0mfastparquet\u001b[0m \u001b[0;32mimport\u001b[0m \u001b[0mParquetFile\u001b[0m\u001b[0;34m\u001b[0m\u001b[0;34m\u001b[0m\u001b[0m\n\u001b[0m\u001b[1;32m      5\u001b[0m \u001b[0;34m\u001b[0m\u001b[0m\n\u001b[1;32m      6\u001b[0m \u001b[0mdata\u001b[0m \u001b[0;34m=\u001b[0m \u001b[0;34m{\u001b[0m \u001b[0;34m'A'\u001b[0m\u001b[0;34m:\u001b[0m \u001b[0mlist\u001b[0m\u001b[0;34m(\u001b[0m\u001b[0mrange\u001b[0m\u001b[0;34m(\u001b[0m\u001b[0;36m1\u001b[0m\u001b[0;34m,\u001b[0m\u001b[0;36m5\u001b[0m\u001b[0;34m)\u001b[0m\u001b[0;34m)\u001b[0m\u001b[0;34m,\u001b[0m \u001b[0;34m'B'\u001b[0m\u001b[0;34m:\u001b[0m \u001b[0mlist\u001b[0m\u001b[0;34m(\u001b[0m\u001b[0mrange\u001b[0m\u001b[0;34m(\u001b[0m\u001b[0;36m6\u001b[0m\u001b[0;34m,\u001b[0m\u001b[0;36m10\u001b[0m\u001b[0;34m)\u001b[0m\u001b[0;34m)\u001b[0m \u001b[0;34m}\u001b[0m\u001b[0;34m\u001b[0m\u001b[0;34m\u001b[0m\u001b[0m\n",
      "\u001b[0;31mModuleNotFoundError\u001b[0m: No module named 'fastparquet'"
     ]
    }
   ],
   "source": [
    "import pandas as pd\n",
    "from tempfile import mktemp\n",
    "from os import unlink\n",
    "from fastparquet import ParquetFile\n",
    "\n",
    "data = { 'A': list(range(1,5)), 'B': list(range(6,10)) }\n",
    "\n",
    "print(f'Using data: {data}')\n",
    "\n",
    "df = pd.DataFrame.from_dict(data)\n",
    "\n",
    "temp_file = mktemp()\n",
    "\n",
    "try:\n",
    "    df.to_parquet(temp_file, compression='GZIP')\n",
    "    pf = ParquetFile(temp_file)\n",
    "    print(f'Readed columns: {pf.columns}')\n",
    "    print(f'File info: {pf.info}')\n",
    "    df = pf.to_pandas()\n",
    "    for value_a, value_b in df.itertuples(index=False):\n",
    "        print(f'Values: {value_a}, {value_b}')\n",
    "\n",
    "finally:\n",
    "    unlink(temp_file)"
   ]
  },
  {
   "cell_type": "markdown",
   "metadata": {
    "pycharm": {
     "name": "#%% md\n"
    }
   },
   "source": [
    "Format `Parquet` jest szczególnie przydatny, gdy przetwarzamy duże zbiory danych i wynik należy zapisać, gdyż kolejny krok przetwarzania może zmodyfikować aktualnie przeprocesowane dane (_check point_).\n",
    "\n",
    "## Baza danych _sqlite_ i podstawy `SqlAlchemy`\n",
    "\n",
    "Mapowanie bazy danych na klasy jest bardzo przydatne w większych projektach. Głównie za sprawą podpowiadania składni oraz teoretycznej niezależności działania programu od warstwy przechowywania danych (baza danych). Biblioteka `SqlAlchemy` stanowi warstwę pośrednią miedzy fizycznymi operacjami na konkretnej bazie danych oraz logicznych operacji jak odczytywanie czy modyfikowanie danych. Co więcej, model danych to klasa w języku Python, co pozwala przy użyciu jednej funkcji założenie całej bazy danych z indeksami, tabelami i sekwencjami. Baza danych _sqlite_ jest wspierana w języku Python poprzez moduł `sqlite3` znajdujący się w bibliotece standardowej. Poniższy listing przedstawia prosty model danych wraz z przykładowym użyciem biblioteki `SqlAlchemy`."
   ]
  },
  {
   "cell_type": "code",
   "execution_count": 96,
   "metadata": {
    "pycharm": {
     "name": "#%%\n"
    }
   },
   "outputs": [
    {
     "name": "stdout",
     "output_type": "stream",
     "text": [
      "Using C:\\Users\\LUKASZ~1\\AppData\\Local\\Temp\\tmpkiy3tjw1.sqlite\n",
      "Calling populatate\n",
      "Calling query\n",
      "Available products\n",
      "1\tLaptop Sony\t10\n",
      "2\tLaptop Lenovo\t1\n",
      "Not available products\n",
      "3\tLaptop Lenovo\t0\n"
     ]
    }
   ],
   "source": [
    "from sqlalchemy import create_engine, Column, String, Integer, Boolean\n",
    "from sqlalchemy.orm import sessionmaker\n",
    "from sqlalchemy.ext.declarative import declarative_base\n",
    "from contextlib import contextmanager\n",
    "from tempfile import mktemp\n",
    "from platform import system\n",
    "\n",
    "temp_db = mktemp(suffix='.sqlite')\n",
    "\n",
    "print(f'Using {temp_db}')\n",
    "\n",
    "conn_uri_handler = {\n",
    "    'Windows': f'sqlite:///{temp_db}',\n",
    "    'Darwin': f'sqlite:////{temp_db}',\n",
    "    'Linux': f'sqlite:////{temp_db}',\n",
    "    'Java': f'sqlite:////{temp_db}'\n",
    "}\n",
    "\n",
    "# w Windows dodaje dodatkowo /\n",
    "engine = create_engine(conn_uri_handler[system()])\n",
    "\n",
    "Base = declarative_base(bind=engine)\n",
    "\n",
    "class Product(Base):\n",
    "    __tablename__ = 'products'\n",
    "    id=Column(Integer, primary_key=True)\n",
    "    title=Column('title', String(32))\n",
    "    in_stock=Column('in_stock', Boolean)\n",
    "    quantity=Column('quantity', Integer)\n",
    "\n",
    "\n",
    "Base.metadata.create_all()\n",
    "\n",
    "Session = sessionmaker(bind=engine)\n",
    "\n",
    "@contextmanager\n",
    "def create_session():\n",
    "    session = Session()\n",
    "    try:\n",
    "        yield session\n",
    "        session.commit()\n",
    "    except Exception:\n",
    "        session.rollback()\n",
    "        raise\n",
    "    finally:\n",
    "        session.close()\n",
    "\n",
    "def provide_session(func):\n",
    "    def wrapper(*args, **kwargs):\n",
    "        print(f'Calling {func.__name__}')\n",
    "        try:\n",
    "            with create_session() as session:\n",
    "                args = (*args, session) if args else (session,) # dodanie parametru session do listy\n",
    "                return func(*args, **kwargs)\n",
    "        except Exception as e:\n",
    "            print(f'Error found: {e}')\n",
    "\n",
    "        return None\n",
    "\n",
    "    return wrapper\n",
    "\n",
    "@provide_session\n",
    "def populatate(session):\n",
    "    session.add(Product(id=1, title='Laptop Sony', in_stock=True, quantity=10))\n",
    "    session.add(Product(id=2, title='Laptop Lenovo', in_stock=True, quantity=1))\n",
    "    session.add(Product(id=3, title='Laptop Lenovo', in_stock=False, quantity=0))\n",
    "\n",
    "\n",
    "@provide_session\n",
    "def query(session):\n",
    "    available_products = session.query(Product).filter(Product.in_stock == True).all()\n",
    "    print('Available products')\n",
    "    for product in available_products:\n",
    "        print(f'{product.id}\\t{product.title}\\t{product.quantity}')\n",
    "\n",
    "    available_products = session.query(Product).filter(Product.in_stock == False).all()\n",
    "    print('Not available products')\n",
    "    for product in available_products:\n",
    "        print(f'{product.id}\\t{product.title}\\t{product.quantity}')\n",
    "\n",
    "\n",
    "populatate()\n",
    "query()"
   ]
  },
  {
   "cell_type": "markdown",
   "metadata": {
    "pycharm": {
     "name": "#%% md\n"
    }
   },
   "source": [
    "W zależności od tego co zostanie przekazane do funkcji `create_engine`, `SqlAlchemy` utworzy takie połączenie do bazy danych i skonwertuje typy języka Python na odpowiadające im typy w konkretnej bazie danych. Użyta tabela jest raczej trywialna, `SqlAlchemy` daje znacznie więcej możliwości np. tworzenia relacji (jeden do jeden, jeden do wielu, wiele do wielu), ograniczeń (_constraint_), wywoływania funkcji wbudowanych oraz tworzenia własnych definicji funkcji i typów, które zostaną przetransformowane do konkretnego dialektu (składnia danego języka zapytań obsługiwanego w bazie danych np. `t-sql` - _Microsoft SQL Server, 'pl/sql' - Oracle). W powyższym przykładzie, w funkcji `create_session` tworzona jest sesja do bazy danych. Użyty mechanizm pozwala na automatyczny `commit` i zwalnianie połączenia i przekazywanie go do puli otwartych połączeń. Dekorator `provide_session` dodaje parametr `session` do dekorowanej funkcji. Powyższy kod nie jest przeznaczony dla wielu wątków.\n",
    "\n",
    "## Serializacja i deserializacja z modułem `pickle`\n",
    "\n",
    "Moduł `pickle` umożliwia zapisywanie na dysk istniejących w pamięci instancji typów, które po ponownym uruchomieniu programu mogą być odczytywane z dysku. Nie każdy typ jest obsługiwany, ale kolekcje takie jak lista, słownik czy nazwana tupla są obsługiwane. Rozszerzeniem modułu `pickle` są moduły `dill` i `cpickle`, które obsługują większą liczbę typów."
   ]
  },
  {
   "cell_type": "code",
   "execution_count": 76,
   "metadata": {
    "pycharm": {
     "name": "#%%\n"
    }
   },
   "outputs": [
    {
     "name": "stdout",
     "output_type": "stream",
     "text": [
      "Before: ['A', 'B', 1, 2, True, False]\n",
      "After: ['A', 'B', 1, 2, True, False]\n"
     ]
    }
   ],
   "source": [
    "from pickle import dump, load\n",
    "from tempfile import mktemp\n",
    "from os import unlink\n",
    "\n",
    "temp_file = mktemp()\n",
    "\n",
    "try:\n",
    "    collection = ['A', 'B', 1, 2, True, False]\n",
    "    print(f'Before: {collection}')\n",
    "    with open(temp_file, 'wb') as f:\n",
    "        dump(collection, f)\n",
    "        f.flush()\n",
    "\n",
    "    with open(temp_file, 'rb') as f:\n",
    "        temp_col = load(f)\n",
    "        print(f'After: {temp_col}')\n",
    "finally:\n",
    "    unlink(temp_file)\n"
   ]
  },
  {
   "cell_type": "markdown",
   "metadata": {
    "pycharm": {
     "name": "#%% md\n"
    }
   },
   "source": [
    "## Pamięć podręczna i moduł _functools_\n",
    "\n",
    "Twórcy języka Python wbudowali w moduły standardowe dekoratory, które umożliwiają tworzenie pamięci podręcznej (_cache_).\n",
    "Dostępnych jest parę metod, niemniej jednak schemat użycia jest bardzo podobny."
   ]
  },
  {
   "cell_type": "code",
   "execution_count": 8,
   "metadata": {
    "pycharm": {
     "name": "#%%\n"
    }
   },
   "outputs": [
    {
     "name": "stdout",
     "output_type": "stream",
     "text": [
      "<functools.cached_property object at 0x00000273FD824370>\n",
      "20\n"
     ]
    }
   ],
   "source": [
    "from functools import lru_cache, cached_property\n",
    "\n",
    "\n",
    "@lru_cache(maxsize=100)\n",
    "def func_lru_cached(a: int, b: int):\n",
    "    return a + b\n",
    "\n",
    "glob_a, glob_b = 10,10\n",
    "\n",
    "@cached_property\n",
    "def sum_ab():\n",
    "    return glob_a + glob_b\n",
    "\n",
    "print(sum_ab)\n",
    "print(func_lru_cached(glob_a, glob_b))"
   ]
  },
  {
   "cell_type": "markdown",
   "metadata": {
    "pycharm": {
     "name": "#%% md\n"
    }
   },
   "source": [
    "_lru_ oznacza _Least Recently Used_, co oznacza, że wywołania z parametrami rzadko używanymi będą usuwane z pamięci podręcznej w momencie kiedy tej pamięci podręcznej będzie brakować (parametr `maxsize`). Dekorator `cached_property` używany jest głównie do właściwości przechowywanych w klasach, które są przedmiotem kolejnego laboratorium.\n",
    "\n",
    "## Zadania do wykonania\n",
    "\n",
    "1. Porównaj zapisywanie i odczytywanie kolekcji (100, 10000, 100 000 elementów) za pomocą trzech technik: modułu `pickle`, `parquet` i `xlsx`.\n",
    "\n",
    "2. Zbadaj przyspieszenie związane z zastosowaniem pamięci podręcznej na wybranych przykładzie funkcji rekurencyjnej (np. ciągu _Fibonacciego_).\n",
    "\n",
    "3. Napisz program tworzący bazę danych z interfejsem konsolowym. Wymagane są następujące operacje, dodanie wiersza, usunięcie wiersza, zmiana pola wiersza, wyświetlenie opcji. Menu można zorganizować jako odczytywanie parametrów zwróconych przez funkcję `input` lub z pomocą komend (łatwiejszy sposób)."
   ]
  },
  {
   "cell_type": "markdown",
   "metadata": {},
   "source": [
    "# Zadanie 1"
   ]
  },
  {
   "cell_type": "code",
   "execution_count": 1,
   "metadata": {},
   "outputs": [
    {
     "ename": "ModuleNotFoundError",
     "evalue": "No module named 'fastparquet'",
     "output_type": "error",
     "traceback": [
      "\u001b[0;31m---------------------------------------------------------------------------\u001b[0m",
      "\u001b[0;31mModuleNotFoundError\u001b[0m                       Traceback (most recent call last)",
      "\u001b[0;32m<ipython-input-1-bcbaf55977ac>\u001b[0m in \u001b[0;36m<module>\u001b[0;34m\u001b[0m\n\u001b[1;32m      2\u001b[0m \u001b[0;32mfrom\u001b[0m \u001b[0mtempfile\u001b[0m \u001b[0;32mimport\u001b[0m \u001b[0mmktemp\u001b[0m\u001b[0;34m\u001b[0m\u001b[0;34m\u001b[0m\u001b[0m\n\u001b[1;32m      3\u001b[0m \u001b[0;32mfrom\u001b[0m \u001b[0mos\u001b[0m \u001b[0;32mimport\u001b[0m \u001b[0munlink\u001b[0m\u001b[0;34m\u001b[0m\u001b[0;34m\u001b[0m\u001b[0m\n\u001b[0;32m----> 4\u001b[0;31m \u001b[0;32mfrom\u001b[0m \u001b[0mfastparquet\u001b[0m \u001b[0;32mimport\u001b[0m \u001b[0mParquetFile\u001b[0m\u001b[0;34m\u001b[0m\u001b[0;34m\u001b[0m\u001b[0m\n\u001b[0m\u001b[1;32m      5\u001b[0m \u001b[0;32mfrom\u001b[0m \u001b[0mpickle\u001b[0m \u001b[0;32mimport\u001b[0m \u001b[0mdump\u001b[0m\u001b[0;34m,\u001b[0m \u001b[0mload\u001b[0m\u001b[0;34m\u001b[0m\u001b[0;34m\u001b[0m\u001b[0m\n\u001b[1;32m      6\u001b[0m \u001b[0;32mfrom\u001b[0m \u001b[0mopenpyxl\u001b[0m \u001b[0;32mimport\u001b[0m \u001b[0mWorkbook\u001b[0m\u001b[0;34m,\u001b[0m \u001b[0mload_workbook\u001b[0m\u001b[0;34m\u001b[0m\u001b[0;34m\u001b[0m\u001b[0m\n",
      "\u001b[0;31mModuleNotFoundError\u001b[0m: No module named 'fastparquet'"
     ]
    }
   ],
   "source": [
    "import pandas as pd\n",
    "from tempfile import mktemp\n",
    "from os import unlink\n",
    "from fastparquet import ParquetFile\n",
    "from pickle import dump, load\n",
    "from openpyxl import Workbook, load_workbook\n",
    "from typing import Dict\n",
    "from itertools import product\n",
    "import time\n",
    "\n",
    "temp_file = mktemp()\n",
    "collection100 = []\n",
    "colleciton10000 = []\n",
    "collection100000 = []\n",
    "for i in range(100000):\n",
    "    if i < 100:\n",
    "        collection100.insert(i,i)\n",
    "    if i < 10000:\n",
    "        colleciton10000.insert(i,i)\n",
    "    if i < 100000:\n",
    "        collection100000.insert(i,i)\n",
    "#PICKLE\n",
    "for i in range(3):\n",
    "    try:\n",
    "        if(i==0):\n",
    "            print('pickle - Time for 100 element:')\n",
    "        if(i==1):\n",
    "            print('pickle - Time for 10 000 element:')\n",
    "        if(i==2):\n",
    "            print('pickle - Time for 100 000 element:')\n",
    "\n",
    "        startTime = time.time()\n",
    "        with open(temp_file, 'wb') as f:\n",
    "            if(i==0):\n",
    "                dump(collection100, f)\n",
    "            if(i==1):\n",
    "                dump(colleciton10000, f)\n",
    "            if(i==2):\n",
    "                dump(collection100000, f)\n",
    "            f.flush()\n",
    "        print(f\"Write speed: {time.time() - startTime}\")\n",
    "        startTime = time.time()\n",
    "        with open(temp_file, 'rb') as f:\n",
    "            temp_col = load(f)\n",
    "        print(f\"Read speed: {time.time() - startTime}\")\n",
    "\n",
    "    finally:\n",
    "        unlink(temp_file)\n",
    "#PARQUET\n",
    "for i in range(3):\n",
    "    if(i==0):\n",
    "        print('parquet - Time for 100 element:')\n",
    "    if(i==1):\n",
    "        print('parquet - Time for 10 000 element:')\n",
    "    if(i==2):\n",
    "        print('parquet - Time for 100 000 element:')\n",
    "\n",
    "    startTime = time.time()\n",
    "    if(i==0):\n",
    "        data = {'A':collection100}\n",
    "    if(i==1):\n",
    "        data = {'A':colleciton10000}\n",
    "    if(i==2):\n",
    "        data = {'A':collection100000}\n",
    "\n",
    "    df = pd.DataFrame.from_dict(data)\n",
    "\n",
    "    try:\n",
    "        df.to_parquet(temp_file, compression='GZIP')\n",
    "        print(f\"Write speed: {time.time() - startTime}\")\n",
    "        startTime = time.time()\n",
    "        pf = ParquetFile(temp_file)\n",
    "        df = pf.to_pandas()\n",
    "        print(f\"Read speed: {time.time() - startTime}\")\n",
    "\n",
    "    finally:\n",
    "        unlink(temp_file)\n",
    "#XLSX\n",
    "data = {'A':collection100}\n",
    "file_name = mktemp(suffix='.xlsx')\n",
    "try:\n",
    "    size=1\n",
    "    for i in range(3):\n",
    "        if(i==0):\n",
    "            print('xlsx - Time for 100 element:')\n",
    "            size=100\n",
    "        if(i==1):\n",
    "            print('xlsx - Time for 10 000 element:')\n",
    "            size=10000\n",
    "        if(i==2):\n",
    "            print('xlsx - Time for 100 000 element:')\n",
    "            size=100000\n",
    "        startTime = time.time()\n",
    "        wb = Workbook()\n",
    "        sheet = wb.create_sheet('test')\n",
    "        for i in range(size):\n",
    "            sheet['A'+str(i+1)] = i\n",
    "        wb.save(file_name)\n",
    "        print(f\"Write speed: {time.time() - startTime}\")\n",
    "        startTime = time.time()\n",
    "        wb = load_workbook(file_name)\n",
    "        print(f\"Read speed: {time.time() - startTime}\")\n",
    "finally:\n",
    "    unlink(file_name)"
   ]
  },
  {
   "cell_type": "markdown",
   "metadata": {},
   "source": [
    "# Zadanie 2"
   ]
  },
  {
   "cell_type": "code",
   "execution_count": 18,
   "metadata": {},
   "outputs": [
    {
     "name": "stdout",
     "output_type": "stream",
     "text": [
      "102334155\n",
      "TIME: 34.151365756988525\n",
      "102334155\n",
      "TIME: 0.0008902549743652344\n"
     ]
    }
   ],
   "source": [
    "from functools import lru_cache\n",
    "import time\n",
    "@lru_cache(maxsize=100)\n",
    "def cache_recur_fibo(n):\n",
    "    if n <= 1:\n",
    "        return n\n",
    "    else:\n",
    "        return(cache_recur_fibo(n-1) + cache_recur_fibo(n-2))\n",
    "def no_cache_recur_fibo(n):\n",
    "    if n <= 1:\n",
    "        return n\n",
    "    else:\n",
    "        return(no_cache_recur_fibo(n-1) + no_cache_recur_fibo(n-2))\n",
    "\n",
    "startTime = time.time()\n",
    "print (no_cache_recur_fibo(40))\n",
    "print (f\"TIME: {time.time() - startTime}\")\n",
    "startTime = time.time()\n",
    "print (cache_recur_fibo(40))\n",
    "print (f\"TIME: {time.time() - startTime}\")"
   ]
  },
  {
   "cell_type": "markdown",
   "metadata": {},
   "source": [
    "# Zadanie 3"
   ]
  },
  {
   "cell_type": "code",
   "execution_count": 10,
   "metadata": {
    "scrolled": false
   },
   "outputs": [
    {
     "name": "stdout",
     "output_type": "stream",
     "text": [
      "Choce option: \n",
      "1. Add new line \n",
      "2. Show database \n",
      "3. Remove from database \n",
      "4.Modify entry\n",
      "     Choice: 2\n",
      "    0. Title: Lorem      Author: Ipsum      Year: 2020\n",
      "Choce option: \n",
      "1. Add new line \n",
      "2. Show database \n",
      "3. Remove from database \n",
      "4.Modify entry\n",
      "     Choice: 1\n",
      "Title: Lorem Ipsum\n",
      "Author: Lorem Ipsum\n",
      "Year: 2000\n",
      "Choce option: \n",
      "1. Add new line \n",
      "2. Show database \n",
      "3. Remove from database \n",
      "4.Modify entry\n",
      "     Choice: 3\n",
      "    0. Title: Lorem      Author: Ipsum      Year: 2020\n",
      "    1. Title: Lorem Ipsum Author: Lorem Ipsum Year: 2000\n",
      "Choice record to complite removal: 0\n",
      "Choce option: \n",
      "1. Add new line \n",
      "2. Show database \n",
      "3. Remove from database \n",
      "4.Modify entry\n",
      "     Choice: 4\n",
      "    0. Title: Lorem Ipsum Author: Lorem Ipsum Year: 2000\n",
      "Choice record to modify: 0\n",
      "Choice field to modify\n",
      "0.Title 1.Author 2.Year\n",
      "Choice: 2\n",
      "Year: Lorem Ipsum\n",
      "Choce option: \n",
      "1. Add new line \n",
      "2. Show database \n",
      "3. Remove from database \n",
      "4.Modify entry\n",
      "     Choice: 2\n",
      "    0. Title: Lorem Ipsum Author: Lorem Ipsum Year: Lorem Ipsum\n",
      "Choce option: \n",
      "1. Add new line \n",
      "2. Show database \n",
      "3. Remove from database \n",
      "4.Modify entry\n",
      "     Choice: 5\n"
     ]
    }
   ],
   "source": [
    "import json\n",
    "def addNew():\n",
    "    newData={\"title\":None, \"author\":None, \"year\":None}\n",
    "    newData[\"title\"]=input(\"Title: \")\n",
    "    newData[\"author\"]=input(\"Author: \")\n",
    "    newData[\"year\"]=input(\"Year: \")\n",
    "    jsonData.append(newData)\n",
    "def showDatabase():\n",
    "    for i,x in enumerate(jsonData):\n",
    "            print(f'{str(i).rjust(5, \" \")}. Title: {x[\"title\"].ljust(10, \" \")} Author: {x[\"author\"].ljust(10, \" \")} Year: {x[\"year\"]}')\n",
    "def choiceMenu():\n",
    "    n=input(\"Choce option: \\n1. Add new line \\n2. Show database \\n3. Remove from database \\n4.Modify entry\\n     Choice: \")\n",
    "    if(n==\"1\"):\n",
    "        addNew()\n",
    "        saveData(\"database.json\")\n",
    "    elif(n==\"2\"):\n",
    "        showDatabase()\n",
    "    elif(n==\"3\"):\n",
    "        showDatabase()\n",
    "        x=input(\"Choice record to complite removal: \")\n",
    "        del jsonData[int(x)]\n",
    "        saveData(\"database.json\")\n",
    "    elif(n==\"4\"):\n",
    "        showDatabase()\n",
    "        x=input(\"Choice record to modify: \")\n",
    "        y=input(\"Choice field to modify\\n0.Title 1.Author 2.Year\\nChoice: \")\n",
    "        if(y==\"0\"):\n",
    "            jsonData[int(x)][\"title\"]=input(\"Title: \")\n",
    "        elif(y==\"1\"):\n",
    "            jsonData[int(x)][\"author\"]=input(\"Author: \")\n",
    "        elif(y==\"2\"):\n",
    "            jsonData[int(x)][\"year\"]=input(\"Year: \")\n",
    "        saveData(\"database.json\")\n",
    "    else:\n",
    "        return False\n",
    "    return True\n",
    "def saveData(name):\n",
    "    f = open(name,\"w\")\n",
    "    f.write(json.dumps(jsonData))\n",
    "    f.close()\n",
    "try:\n",
    "    f = open(\"database.json\",\"r\")\n",
    "    jsonData=json.loads(f.read())\n",
    "except:\n",
    "    jsonData=[]\n",
    "    \n",
    "while(choiceMenu()):\n",
    "    pass"
   ]
  },
  {
   "cell_type": "code",
   "execution_count": null,
   "metadata": {},
   "outputs": [],
   "source": []
  }
 ],
 "metadata": {
  "kernelspec": {
   "display_name": "Python 3",
   "language": "python",
   "name": "python3"
  },
  "language_info": {
   "codemirror_mode": {
    "name": "ipython",
    "version": 3
   },
   "file_extension": ".py",
   "mimetype": "text/x-python",
   "name": "python",
   "nbconvert_exporter": "python",
   "pygments_lexer": "ipython3",
   "version": "3.9.2"
  }
 },
 "nbformat": 4,
 "nbformat_minor": 1
}
