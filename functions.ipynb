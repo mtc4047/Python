{
 "cells": [
  {
   "cell_type": "markdown",
   "metadata": {
    "collapsed": true,
    "pycharm": {
     "name": "#%% md\n"
    }
   },
   "source": [
    "# Funkcje i elementy języka funkcyjnego\n",
    "\n",
    "W laboratorium zostaną omówione najważniejsze elementy związane z funkcjami i elementami pochodnymi jak funktory i generatory. Jako materiał uzupełniający warto wrócić do laboratorium 1, gdzie zostały przedstawione dwie dodatkowe metody przekazywania parametrów, `*` i `**`.\n",
    "\n",
    "## 1. Przekazywanie parametrów\n",
    "\n",
    "Funkcja to zestaw instrukcji z wydzielonymi parametrami wejściowymi o zasięgu lokalnym, identyfikatorem (nazwą funkcji) oraz zwracanym wyniku, który może przyjmować wartość `None`. Wyrażenia `lambda` łamią tą zasadę, gdyż nie posiadają nazwy, a jedynie są przypisywane do zmiennej, która przechowuje miejsce w pamięci, gdzie funkcja jest przechowywana. Funkcje mogą być globalne (w ramach swojego modułu), importowane z poziomu innych plików języka Python bezpośrednio po nazwie, agregowane w klasach (jako podstawowy składnik klasy) lub zagnieżdżone (_nested_). Dwa typy zostaną omówione w kolejnych sekcjach.\n",
    "\n",
    "Poniżej znajdują się trzy proste funkcje, (i) nie zwracająca żadnego wyniku, (ii) zwracająca wynik w postaci zmiennej typu `int` oraz (iii) zwracająca `tuple`."
   ]
  },
  {
   "cell_type": "code",
   "execution_count": 2,
   "metadata": {
    "pycharm": {
     "name": "#%%\n"
    }
   },
   "outputs": [],
   "source": [
    "def func_1():\n",
    "    pass # lub return\n",
    "\n",
    "def func_2(a: int, b: int):\n",
    "    return a + b\n",
    "\n",
    "def func_3(a: int, b: int):\n",
    "    return a+b, a*b # skrócony zapis (a+b, a*b)"
   ]
  },
  {
   "cell_type": "markdown",
   "metadata": {
    "pycharm": {
     "name": "#%% md\n"
    }
   },
   "source": [
    "Podstawowe anotacje zostały już omówione w laboratorium 1. Ich stosowanie jest zalecane z dwóch powodów: w ten sposób kod sam się dokumentuje (wiadomo jakiego typu mają być przekazywane parametry) oraz dla bezpieczeństwa (istnieje wiele programów sprawdzających poprawność kodu np. `mypy`). Fizycznie anotacje są jedynie wpisami w słowniku `__annotatations__` i z punktu widzenia kompilacji i wykonywania kodu bez znaczenia. W kolejnej sekcji zostanie przedstawiony przykład jak anotacje są przypisywane do funkcji oraz jak można wykorzystać tę informację w dekoratorach funkcji.\n",
    "\n",
    "Oprócz prostych anotacji, w języku Python można deklarować również typu bardziej złożone np. słowniki czy listy, których elementy również mogą być typami złożonymi np. tuplami. Poniżej przykład paru typów bardziej złożonych."
   ]
  },
  {
   "cell_type": "code",
   "execution_count": 1,
   "metadata": {
    "pycharm": {
     "name": "#%%\n"
    }
   },
   "outputs": [],
   "source": [
    "from typing import List, Dict, Tuple, Any\n",
    "\n",
    "def func1(par1: Dict[str, List[Tuple[str, Any]]]):\n",
    "    pass\n"
   ]
  },
  {
   "cell_type": "markdown",
   "metadata": {
    "pycharm": {
     "name": "#%% md\n"
    }
   },
   "source": [
    "W powyższym przykładzie charakterystycznymi elementami są nawiasy kwadratowe, w których zagnieżdżonych typów używa się jako parametrów. Zmienna `par1` powinna być typu słownikowego, którego klucz jest łańcuchem znaków, a wartością jest lista tupli, której pierwszym elementem jest łańcuch znaków, a drugim dowolny, nieznany typ.\n",
    "\n",
    "W tym miejscu warto również wspomnieć o dwóch anotacjach: `union` i `optional`. Jak zostało wspomniane w laboratorium 1, w języku Python nie ma silnego typowania i w związku z tym nie ma przeciążenia funkcji (ta sama nazwa, a różne parametry). Często spotykaną praktyką jest możliwość przekazania wielu typów pod jedną zmienną."
   ]
  },
  {
   "cell_type": "code",
   "execution_count": 3,
   "metadata": {
    "pycharm": {
     "name": "#%%\n"
    }
   },
   "outputs": [
    {
     "name": "stdout",
     "output_type": "stream",
     "text": [
      "list: {'par1': ['test', 'test2'], 'par2': None}\n",
      "str: {'par1': 'test', 'par2': None}\n"
     ]
    }
   ],
   "source": [
    "from typing import Union, Optional, Sequence, List\n",
    "\n",
    "def func_opt(par1: Union[Sequence[str], str], par2: Optional[List[str]]=None):\n",
    "    if isinstance(par1, list):\n",
    "        print(f'list: {locals()}')\n",
    "    elif isinstance(par1, str):\n",
    "        print(f'str: {locals()}')\n",
    "    else:\n",
    "        print(f'other: {locals()}')\n",
    "\n",
    "func_opt(['test', 'test2'])\n",
    "func_opt('test')"
   ]
  },
  {
   "cell_type": "markdown",
   "metadata": {
    "pycharm": {
     "name": "#%% md\n"
    }
   },
   "source": [
    "Funkcja `func_opt` przyjmuje dwa parametry, wymagany `par1` oraz opcjonalny `par2`. Pierwszy z nich może przyjmować postać\n",
    "dowolnego typu iteracyjnego np. lista, tupla, zbiór, oznaczonego w anotacji jako `sequence`. Druga możliwość to przekazanie do zmiennej `par1` łańcucha znaków. Użycie funkcji wbudowanej `locals` wyświetla wszystkie zmienne lokalne zadeklarowane w funkcji.\n",
    "\n",
    "## 2. Dekoratory funkcji\n",
    "\n",
    "Dekoratorem funkcji nazywamy funkcję przypisaną do deklaracji innej funkcji bazowej. W momencie wywołania funkcji bazowej w kodzie programu, która zawiera dekorator, sterowanie wywoła dekorator, którego zadaniem jest wykonanie dowolnych operacji i manualne wywołanie funkcji. Daje to ogromną możliwość wpływu na działanie samej 'udekorowanej' funkcji. Można dodawać parametry/modyfikować parametry czy przechwytywać wyjątki. Dość istotna jest tutaj niezależność obu funkcji (_losing coupling_). W tym konkretnym przykładzie chodzi przede wszystkim o to, żeby dekorator nie był dedykowany dla jednej konkretnej funkcji. Poniżej znajduje się przykład użycia dekoratora, który przechwytuje wyjątek. Ma to uzasadnienie jedynie w przypadku, gdy dekorator jest w stanie zwrócić poprawną wartość."
   ]
  },
  {
   "cell_type": "code",
   "execution_count": 5,
   "metadata": {
    "pycharm": {
     "name": "#%%\n"
    }
   },
   "outputs": [
    {
     "name": "stdout",
     "output_type": "stream",
     "text": [
      "calling base_func\n",
      "{'par1': 'test'}\n",
      "error found: Exception test\n"
     ]
    }
   ],
   "source": [
    "import functools\n",
    "\n",
    "def call_safe(func):\n",
    "    def wrapper(*args, **kwargs):\n",
    "        print(f'calling {func.__name__}')\n",
    "        try:\n",
    "            return func(*args, **kwargs)\n",
    "        except Exception as e:\n",
    "            print(f'error found: {e}')\n",
    "\n",
    "        return None\n",
    "\n",
    "    return wrapper\n",
    "\n",
    "@call_safe\n",
    "def base_func(par1: str):\n",
    "    print(locals())\n",
    "    raise Exception('Exception test')\n",
    "\n",
    "base_func('test')"
   ]
  },
  {
   "cell_type": "markdown",
   "metadata": {
    "pycharm": {
     "name": "#%% md\n"
    }
   },
   "source": [
    "Każda funkcja może posiadać jeden lub więcej dekoratorów. W powyższym przykładzie `*arg` odpowiada przekazywanym parametrom pozycyjnym (przykładem jest tutaj `par1`), a `**kwargs` ma wartość inną, niż `None` jedynie, gdy funkcja przyjmuje parametr typu `**kwargs` (słownik z listą parametrów). Następny przykład ilustruje jak modyfikować parametry przekazywane do funkcji."
   ]
  },
  {
   "cell_type": "code",
   "execution_count": 11,
   "metadata": {
    "pycharm": {
     "name": "#%%\n"
    }
   },
   "outputs": [
    {
     "name": "stdout",
     "output_type": "stream",
     "text": [
      "test without par2, kwargs\n",
      "calling base_func\n",
      "test\n",
      "par2\n",
      "{}\n",
      "error found: Exception test\n",
      "test without par2 with kwargs\n",
      "calling base_func\n",
      "test\n",
      "par2\n",
      "{'add_par': 'add_par_val'}\n",
      "error found: Exception test\n"
     ]
    }
   ],
   "source": [
    "import functools\n",
    "\n",
    "def call_safe(func):\n",
    "    def wrapper(*args, **kwargs):\n",
    "        print(f'calling {func.__name__}')\n",
    "        try:\n",
    "            args = (*args, 'par2') # dodanie parametru do listy\n",
    "            return func(*args, **kwargs)\n",
    "        except Exception as e:\n",
    "            print(f'error found: {e}')\n",
    "\n",
    "        return None\n",
    "\n",
    "    return wrapper\n",
    "\n",
    "@call_safe\n",
    "def base_func(par1: str, par2: str, **kwargs):\n",
    "    print(par1)\n",
    "    print(par2)\n",
    "    print(kwargs)\n",
    "    raise Exception('Exception test')\n",
    "\n",
    "print('test without par2, kwargs')\n",
    "base_func('test')\n",
    "\n",
    "print('test without par2 with kwargs')\n",
    "base_func('test', **{'add_par': 'add_par_val'})"
   ]
  },
  {
   "cell_type": "markdown",
   "metadata": {
    "pycharm": {
     "name": "#%% md\n"
    }
   },
   "source": [
    "Kolejny bardziej zaawansowany przykład prezentuje dekorator sprawdzający typy w momencie przekazywania parametrów do funkcji bazowej. Moduł standardowy `inspect` pozwala pobierać typy przekazywanych parametrów. Przykład pochodzi z książki: \"Mark Summerfield, Advanced Python 3 Programming Techniques, Addison-Wesley Professional, 2009\"."
   ]
  },
  {
   "cell_type": "code",
   "execution_count": 21,
   "metadata": {
    "pycharm": {
     "name": "#%%\n"
    }
   },
   "outputs": [
    {
     "name": "stdout",
     "output_type": "stream",
     "text": [
      "strstrstrstrstr\n"
     ]
    },
    {
     "ename": "AssertionError",
     "evalue": "expected argument 'count' of <class 'int'> got <class 'float'>",
     "output_type": "error",
     "traceback": [
      "\u001b[1;31m---------------------------------------------------------------------------\u001b[0m",
      "\u001b[1;31mAssertionError\u001b[0m                            Traceback (most recent call last)",
      "\u001b[1;32m<ipython-input-21-4f8612d8a393>\u001b[0m in \u001b[0;36m<module>\u001b[1;34m\u001b[0m\n\u001b[0;32m     32\u001b[0m \u001b[0mprint\u001b[0m\u001b[1;33m(\u001b[0m\u001b[0mresult\u001b[0m\u001b[1;33m)\u001b[0m\u001b[1;33m\u001b[0m\u001b[1;33m\u001b[0m\u001b[0m\n\u001b[0;32m     33\u001b[0m \u001b[1;33m\u001b[0m\u001b[0m\n\u001b[1;32m---> 34\u001b[1;33m \u001b[0mtest_funct\u001b[0m\u001b[1;33m(\u001b[0m\u001b[1;34m'str'\u001b[0m\u001b[1;33m,\u001b[0m \u001b[1;36m1.0\u001b[0m\u001b[1;33m)\u001b[0m\u001b[1;33m\u001b[0m\u001b[1;33m\u001b[0m\u001b[0m\n\u001b[0m\u001b[0;32m     35\u001b[0m \u001b[0mtest_funct\u001b[0m\u001b[1;33m(\u001b[0m\u001b[1;36m1\u001b[0m\u001b[1;33m,\u001b[0m \u001b[1;36m2\u001b[0m\u001b[1;33m)\u001b[0m\u001b[1;33m\u001b[0m\u001b[1;33m\u001b[0m\u001b[0m\n\u001b[0;32m     36\u001b[0m \u001b[1;33m\u001b[0m\u001b[0m\n",
      "\u001b[1;32m<ipython-input-21-4f8612d8a393>\u001b[0m in \u001b[0;36mwrapper\u001b[1;34m(*args, **kwargs)\u001b[0m\n\u001b[0;32m     15\u001b[0m         for name, arg in (list(zip(arg_spec.args, args)) +\n\u001b[0;32m     16\u001b[0m                           list(kwargs.items())):\n\u001b[1;32m---> 17\u001b[1;33m             assert isinstance(arg, annotations[name]), (\n\u001b[0m\u001b[0;32m     18\u001b[0m                     \"expected argument '{0}' of {1} got {2}\".format(\n\u001b[0;32m     19\u001b[0m                     name, annotations[name], type(arg)))\n",
      "\u001b[1;31mAssertionError\u001b[0m: expected argument 'count' of <class 'int'> got <class 'float'>"
     ]
    }
   ],
   "source": [
    "import inspect\n",
    "import functools\n",
    "from typing import List\n",
    "\n",
    "def strictly_typed(function):\n",
    "    annotations = function.__annotations__\n",
    "    arg_spec = inspect.getfullargspec(function)\n",
    "\n",
    "    assert \"return\" in annotations, \"missing type for return value\"\n",
    "    for arg in arg_spec.args + arg_spec.kwonlyargs:\n",
    "        assert arg in annotations, (\"missing type for parameter '\" +\n",
    "                                    arg + \"'\")\n",
    "    @functools.wraps(function)\n",
    "    def wrapper(*args, **kwargs):\n",
    "        for name, arg in (list(zip(arg_spec.args, args)) +\n",
    "                          list(kwargs.items())):\n",
    "            assert isinstance(arg, annotations[name]), (\n",
    "                    \"expected argument '{0}' of {1} got {2}\".format(\n",
    "                    name, annotations[name], type(arg)))\n",
    "        result = function(*args, **kwargs)\n",
    "        assert isinstance(result, annotations[\"return\"]), (\n",
    "                    \"expected return of {0} got {1}\".format(\n",
    "                    annotations[\"return\"], type(result)))\n",
    "        return result\n",
    "    return wrapper\n",
    "\n",
    "@strictly_typed\n",
    "def test_funct(par1: str, count: int) -> str:\n",
    "    return par1 * count\n",
    "\n",
    "result = test_funct('str', 5)\n",
    "print(result)\n",
    "\n",
    "test_funct('str', 1.0)\n"
   ]
  },
  {
   "cell_type": "markdown",
   "metadata": {
    "pycharm": {
     "name": "#%% md\n"
    }
   },
   "source": [
    "## 3. Funkcje lokalne (zagnieżdżone)\n",
    "\n",
    "Funkcje grupują powtarzające się fragmenty kodu w jednym miejscu. Ta sama zasada może dotyczyć długich funkcji, które mogą posiadać funkcje lokalne, dostępne jedynie z funkcji głównej. Technika ta ma uzasadnienie, gdy realizowany blok kodu zagnieżdżonej funkcji jest bardzo powiązany z funkcją główną i wydzielenie tej funkcji zupełnie osobno nie ma uzasadnienia (ze względu na swoją specyfikę, funkcja będzie zawsze wywoływana przez dokładnie jedną funkcję). Poniższy kod przedstawia sposób definiowania takich funkcji lokalnych."
   ]
  },
  {
   "cell_type": "code",
   "execution_count": 25,
   "metadata": {
    "pycharm": {
     "name": "#%%\n"
    }
   },
   "outputs": [
    {
     "name": "stdout",
     "output_type": "stream",
     "text": [
      "par1\n",
      "op1 called\n"
     ]
    }
   ],
   "source": [
    "def func_main(par1: str):\n",
    "    def op1():\n",
    "        print('op1 called')\n",
    "        pass\n",
    "\n",
    "    print(par1)\n",
    "\n",
    "    op1()\n",
    "\n",
    "func_main('par1')"
   ]
  },
  {
   "cell_type": "markdown",
   "metadata": {
    "pycharm": {
     "name": "#%% md\n"
    }
   },
   "source": [
    "Budowanie funkcji zagnieżdżonych ma tę zaletę, że każda zmienna lokalna funkcji głównej jest dostępna w funkcji zagnieżdżonej. W przypadku modyfikacji tej zmiennej, należy dodać słowo kluczowe `nonlocal`, które informuje kompilator, że zmienna nie jest nową zmienną funkcji zagnieżdżonej, a zmienną funkcji głównej."
   ]
  },
  {
   "cell_type": "code",
   "execution_count": 26,
   "metadata": {
    "pycharm": {
     "name": "#%%\n"
    }
   },
   "outputs": [
    {
     "name": "stdout",
     "output_type": "stream",
     "text": [
      "op_1: local_1\n",
      "op_1: local_2\n",
      "func_main: local_1_mod\n",
      "func_main: local 2\n"
     ]
    }
   ],
   "source": [
    "def func_main():\n",
    "    local_1, local_2 = 'local 1', 'local 2'\n",
    "\n",
    "    def op1():\n",
    "        nonlocal local_1\n",
    "        print(f'op_1: local_1')\n",
    "        print(f'op_1: local_2')\n",
    "\n",
    "        local_1 = 'local_1_mod'\n",
    "        local_2 = 'local_2_mod'\n",
    "\n",
    "    op1()\n",
    "\n",
    "    print(f'func_main: {local_1}')\n",
    "    print(f'func_main: {local_2}')\n",
    "\n",
    "func_main()"
   ]
  },
  {
   "cell_type": "markdown",
   "metadata": {
    "pycharm": {
     "name": "#%% md\n"
    }
   },
   "source": [
    "Zmienna `local2` w funkcji zagnieżdżonej `op1` jest zmienną lokalną tej funkcji i jej wartość nie jest przekazywana dalej.\n",
    "\n",
    "Innym sposobem wykorzystania funkcji zagnieżdżonych jest optymalizacja wywołań rekurencyjnych. Przykładem może być tutaj generowanie ciągu Fibinacciego."
   ]
  },
  {
   "cell_type": "code",
   "execution_count": 2,
   "metadata": {
    "pycharm": {
     "name": "#%%\n"
    }
   },
   "outputs": [
    {
     "name": "stdout",
     "output_type": "stream",
     "text": [
      "1\n",
      "2\n",
      "3\n",
      "5\n",
      "8\n",
      "13\n",
      "21\n",
      "34\n",
      "55\n",
      "89\n",
      "144\n",
      "233\n",
      "377\n",
      "610\n",
      "987\n",
      "1597\n",
      "2584\n",
      "4181\n",
      "6765\n"
     ]
    }
   ],
   "source": [
    "def fib():\n",
    "    a, b = 0, 1\n",
    "    def inner_fib():\n",
    "        nonlocal a,b\n",
    "        a, b = b, a + b\n",
    "\n",
    "        return b\n",
    "\n",
    "    return inner_fib\n",
    "\n",
    "f = fib()\n",
    "for _ in range(1, 20):\n",
    "    print(f())"
   ]
  },
  {
   "cell_type": "markdown",
   "metadata": {
    "pycharm": {
     "name": "#%% md\n"
    }
   },
   "source": [
    "Zmienna `f` nie tylko przechowuje adres funkcji `inner_fib`, ale również bieżący kontekst funkcji `f` (w tym przypadku zmienne `a`, `b`). Powyższy przykład łatwo przełożyć na większość funkcji rekurencyjnych, bez konieczności przejmowania się tzw. _long tail_ czyli wielokrotnym odkładaniu się na stos kolejnych kontekstów funkcji rekurencyjnej, co przekłada się na czas działania takiej funkcji.\n",
    "\n",
    "## Generatory\n",
    "\n",
    "Załóżmy, że mamy funkcję, która zwraca listę wartości, a lista ta jest następnie przekazana do pętli `for`. Wykonane zostaną następujące operacje, wywołanie funkcji, przekazanie wyniku do zmiennej lokalnej funkcji głównej (wywołującej), a następnie iterowanie po kolejnych elementach listy. Jeśli algorytm wyszukuje konkretną wartość na liście, bez względu na to, który to element listy, w pamięci zostanie zadeklarowana pełna tablica. Taki algorytm jest efektywny jedynie w przypadku, gdy wygenerowanie każdego elementu listy ma małą złożoność obliczeniową. Przyjmijmy, że mam przypadek drugi, w którym przeszukujemy zawartość dużych plików. Wylistowanie zawartości wszystkich plików, aby następnie po nich wyszukiwać jest nieefektywne. Pomocne są wtedy generatory, które nie kończą działania w momencie przekazania wartości do funkcji wywołującej. Kolejny przykład ilustruje sposób deklaracji generatora."
   ]
  },
  {
   "cell_type": "code",
   "execution_count": 37,
   "metadata": {
    "pycharm": {
     "name": "#%%\n"
    }
   },
   "outputs": [
    {
     "name": "stdout",
     "output_type": "stream",
     "text": [
      "iter: 0 in fun_gen\n",
      "iter: 0 in main\n",
      "0\n",
      "iter: 1 in fun_gen\n",
      "iter: 2 in fun_gen\n",
      "iter: 2 in main\n",
      "2\n",
      "iter: 3 in fun_gen\n",
      "iter: 4 in fun_gen\n",
      "iter: 4 in main\n",
      "4\n",
      "iter: 5 in fun_gen\n",
      "iter: 6 in fun_gen\n",
      "iter: 6 in main\n",
      "6\n",
      "iter: 7 in fun_gen\n",
      "iter: 8 in fun_gen\n",
      "iter: 8 in main\n",
      "8\n",
      "iter: 9 in fun_gen\n"
     ]
    }
   ],
   "source": [
    "def fun_gen(count):\n",
    "    for i in range(count):\n",
    "        print(f'iter: {i} in fun_gen')\n",
    "        if i % 2 == 0:\n",
    "            yield i\n",
    "\n",
    "for i in fun_gen(10):\n",
    "    print(f'iter: {i} in main')\n",
    "    print(i)"
   ]
  },
  {
   "cell_type": "markdown",
   "metadata": {
    "pycharm": {
     "name": "#%% md\n"
    }
   },
   "source": [
    "Funkcja `fun_gen` zwraca po jednym elemencie liczbę parzystą z przedziału od zera do `count`. Sterowanie programu przechodzi między funkcję `fun_gen`, a instrukcją `for` kodu wywołującego funkcję `fun_gen`. Wcześniejsze zakończenie działania generatora może nastąpić po wywołaniu wyjątku z funkcji `fun_gen`, w kodzie wywołującym po wyjściu z pętli za pomocą słowa kluczowego `break` lub w samym generatorze po wywołaniu `return`."
   ]
  },
  {
   "cell_type": "code",
   "execution_count": 33,
   "metadata": {
    "pycharm": {
     "name": "#%%\n"
    }
   },
   "outputs": [
    {
     "name": "stdout",
     "output_type": "stream",
     "text": [
      "iter: 0 in fun_gen\n",
      "iter: 0 in main\n",
      "0\n",
      "iter: 1 in fun_gen\n",
      "iter: 2 in fun_gen\n",
      "iter: 2 in main\n",
      "2\n",
      "iter: 3 in fun_gen\n"
     ]
    }
   ],
   "source": [
    "def fun_gen(count):\n",
    "    for i in range(count):\n",
    "        print(f'iter: {i} in fun_gen')\n",
    "        if i % 2 == 0:\n",
    "            yield i\n",
    "        elif i % 3 == 0 and i > 0:\n",
    "            return\n",
    "\n",
    "for i in fun_gen(10):\n",
    "    print(f'iter: {i} in main')\n",
    "    print(i)\n",
    "\n",
    "    if i > 100:\n",
    "        break"
   ]
  },
  {
   "cell_type": "markdown",
   "metadata": {
    "pycharm": {
     "name": "#%% md\n"
    }
   },
   "source": [
    "Do otrzymania kolejnych elementów można użyć funkcji wbudowanej `next`, co prezentuje kolejny przykład."
   ]
  },
  {
   "cell_type": "code",
   "execution_count": 32,
   "metadata": {
    "pycharm": {
     "name": "#%%\n"
    }
   },
   "outputs": [
    {
     "name": "stdout",
     "output_type": "stream",
     "text": [
      "0\n"
     ]
    }
   ],
   "source": [
    "def fun_gen(count):\n",
    "    for i in range(count):\n",
    "        if i % 2 == 0:\n",
    "            yield i\n",
    "\n",
    "print(next(fun_gen(10)))"
   ]
  },
  {
   "cell_type": "markdown",
   "metadata": {
    "pycharm": {
     "name": "#%% md\n"
    }
   },
   "source": [
    "Realizacja generatorów odbywa się poprzez tzw. iteratory. W momencie kompilacji funkcji ze słowem kluczowym `yield`, kompilator tworzy iterator dla tej funkcji. Tworzenie własnych iteratorów jest możliwe implementując funkcje `__next__` we własnej klasie. Zadaniem tej funkcji jest przechowywanie aktualnie zwróconej wartości, a jej kolejne wywołanie, zwrócenie kolejnych rezultatów, tzn. dla tej samej instancji iteratora funkcja `__next__` wywoływana jest wielokrotnie.\n",
    "\n",
    "Powyższe przykłady przedstawiały skończone generatory dane parametrem `count`. Można jednak tworzyć nieskończone generatory, co jest bardzo przydatne w momencie, gdy nie jest znana liczba elementów jakie należy wygenerować. Przykładem może tu być generowanie liczby pierwszej większej niż zadana liczba.\n",
    "\n",
    "## Zadania do wykonania\n",
    "\n",
    "### Zadanie 1\n",
    "\n",
    "Napisz dekorator, który autoryzuje użytkownika na podstawie podanego loginu i hasła. Do przechowywania danych należy wykorzystać klasę `shelve`. Do maskowania hasła można użyć następującej funkcji:"
   ]
  },
  {
   "cell_type": "code",
   "execution_count": 1,
   "metadata": {
    "pycharm": {
     "name": "#%%\n"
    }
   },
   "outputs": [
    {
     "data": {
      "text/plain": [
       "'d7f88d5b679c52356708197ab471956f6fa1c2f9955fdcf27516ef5e1a3e4ff4897223e92b96bfdfddc7425386feb44bf862feba298d3a446b965fb3bd9f94de1631cd010d592bcfe2621145c8bb2ad3179331cbb6cd48f3a7fcf350e12b7a2a'"
      ]
     },
     "execution_count": 1,
     "metadata": {},
     "output_type": "execute_result"
    }
   ],
   "source": [
    "import hashlib, binascii\n",
    "from os import urandom\n",
    "\n",
    "def hash_password(password):\n",
    "    \"\"\"Hash a password for storing.\"\"\"\n",
    "    salt = hashlib.sha256(urandom(60)).hexdigest().encode('ascii')\n",
    "    pwdhash = hashlib.pbkdf2_hmac('sha512', password.encode('utf-8'),\n",
    "                                salt, 100000)\n",
    "    pwdhash = binascii.hexlify(pwdhash)\n",
    "    return (salt + pwdhash).decode('ascii')\n",
    "\n",
    "hash_password('test')"
   ]
  },
  {
   "cell_type": "markdown",
   "metadata": {
    "pycharm": {
     "name": "#%% md\n"
    }
   },
   "source": [
    "Należy pamiętać, że `salt` należy utworzyć raz i zachować w chronionym pliku.\n",
    "\n",
    "### Zadanie 2\n",
    "\n",
    "Napisz dekorator, który ogranicza argument funkcji do zadanego przedziału.\n",
    "\n",
    "### Zadanie 3\n",
    "\n",
    "Napisz generator, który dla zadanego wielomianu i przedziału wartości, zwróci jego miejsca zerowe. Dla pierwszego wywołania wynikiem ma być pierwsze miejsce zerowe, dla drugiego, drugie itd. Można zastosować naiwny algorytm sprawdzający kolejne wartości wielomianu. Można również zastosować kodowanie wielomianu bezpośrednio w kodzie języka Python: `x**n*x**(n-1)`."
   ]
  },
  {
   "cell_type": "markdown",
   "metadata": {},
   "source": [
    "# Zadanie 1"
   ]
  },
  {
   "cell_type": "code",
   "execution_count": 52,
   "metadata": {},
   "outputs": [
    {
     "name": "stdout",
     "output_type": "stream",
     "text": [
      "Autorized as a admin\n"
     ]
    }
   ],
   "source": [
    "import shelve\n",
    "import hashlib\n",
    "\n",
    "def security(password):\n",
    "    return hashlib.md5(password.encode()).hexdigest()\n",
    "\n",
    "def saveData():\n",
    "    signIn = [{'login':'admin','password':'mypassword'}]\n",
    "    with shelve.open('loginInfo.db') as shelf:\n",
    "        for id, login in enumerate(signIn):\n",
    "            login['password'] = security(login['password'])\n",
    "            shelf[str(id)] = login\n",
    "            \n",
    "def openData():\n",
    "    with shelve.open('loginInfo.db') as shelf:\n",
    "        return shelf['0']['login'],shelf['0']['password']\n",
    "        \n",
    "def loginSystem(func):\n",
    "    def wrapper(*args, **kwargs):\n",
    "        login,password = args\n",
    "        log2,pass2 = openData()\n",
    "        if(security(password)==pass2 and login==log2):\n",
    "            return func(login,security(password))\n",
    "        else:\n",
    "            return 'User not autorized'    \n",
    "    return wrapper\n",
    "\n",
    "@loginSystem    \n",
    "def logIn(login, password):\n",
    "    return f'Autorized as a {login}'\n",
    "\n",
    "saveData()\n",
    "print(logIn('admin','mypassword'))"
   ]
  },
  {
   "cell_type": "markdown",
   "metadata": {},
   "source": [
    "# Zadanie 2"
   ]
  },
  {
   "cell_type": "code",
   "execution_count": 3,
   "metadata": {},
   "outputs": [
    {
     "name": "stdout",
     "output_type": "stream",
     "text": [
      "liczba z poza zakresu (0-6)\n",
      "36\n"
     ]
    }
   ],
   "source": [
    "def domain(fn):\n",
    "    def wrapper(*args, **kwargs):\n",
    "        arg = args[0]\n",
    "        if arg >= 0 and arg <= 6:\n",
    "            return fn(arg)\n",
    "        else: \n",
    "            return \"liczba z poza zakresu (0-6)\"\n",
    "    return wrapper\n",
    "    \n",
    "@domain\n",
    "def value(a):\n",
    "    return a*a\n",
    "\n",
    "print(value(7))\n",
    "print(value(6))"
   ]
  },
  {
   "cell_type": "markdown",
   "metadata": {},
   "source": [
    "# Zadanie 3"
   ]
  },
  {
   "cell_type": "code",
   "execution_count": 4,
   "metadata": {},
   "outputs": [
    {
     "name": "stdout",
     "output_type": "stream",
     "text": [
      "-1\n",
      "0\n"
     ]
    }
   ],
   "source": [
    "def fun_gen(polynomial,minVal,maxVal):\n",
    "    for x in range(minVal,maxVal):\n",
    "        if eval(polynomial) == 0:\n",
    "            yield x \n",
    "            \n",
    "for i in fun_gen('x**2 + x',-5,5):\n",
    "    print(i)"
   ]
  },
  {
   "cell_type": "code",
   "execution_count": null,
   "metadata": {},
   "outputs": [],
   "source": []
  }
 ],
 "metadata": {
  "kernelspec": {
   "display_name": "Python 3",
   "language": "python",
   "name": "python3"
  },
  "language_info": {
   "codemirror_mode": {
    "name": "ipython",
    "version": 3
   },
   "file_extension": ".py",
   "mimetype": "text/x-python",
   "name": "python",
   "nbconvert_exporter": "python",
   "pygments_lexer": "ipython3",
   "version": "3.9.2"
  }
 },
 "nbformat": 4,
 "nbformat_minor": 1
}
