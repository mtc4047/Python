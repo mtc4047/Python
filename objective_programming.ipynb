{
 "cells": [
  {
   "cell_type": "markdown",
   "metadata": {
    "collapsed": true,
    "pycharm": {
     "name": "#%% md\n"
    }
   },
   "source": [
    "# Programowanie obiektowe\n",
    "\n",
    "W paradygmacie programowania obiektowego, klasy stanowią najważniejszy budulec programów. Niemniej jednak w języku Python istnieje wiele typów i technik, które pozwalają ograniczyć ich użycie. W językach programowania takich jak Java czy C#, klasy używane są zarówno jako kontenery do danych jak i typowe obiekty, które są wyspecjalizowane do konkretnych zadań. W języku Python jako kontenerów można użyć typu `namedtuple` lub `dataclass`. Nową techniką unikalną dla języka Python, która nie występuje w innych językach programowania jest tzw. _mixin_, czyli wstrzykiwanie pojedynczych funkcjonalności i użycie dziedziczenia jako kompozycji. Przykładem może być tutaj logowanie błędów. Jest to dość oczywista funkcjonalność jednak może być realizowana na wiele sposób np. logowanie na konsole, do pliku, usługi ElasticSearch czy S3 (w postaci plików).\n",
    "\n",
    "## Definiowanie klas\n",
    "\n",
    "Do definicji klasy należy użyć słowa kluczowego `class`, a następnie przekazać jej identyfikator typu. Opcjonalne dziedziczenie przekazuje się za pomocą nawiasu, zaraz za identyfikatorem. Poniżej znajduje się przykładowa deklaracja klasy."
   ]
  },
  {
   "cell_type": "code",
   "execution_count": 18,
   "metadata": {
    "pycharm": {
     "name": "#%%\n"
    }
   },
   "outputs": [
    {
     "data": {
      "text/plain": [
       "True"
      ]
     },
     "execution_count": 18,
     "metadata": {},
     "output_type": "execute_result"
    }
   ],
   "source": [
    "class Book:\n",
    "    isbn_field: str = 'isbn'\n",
    "\n",
    "    def __init__(self, isbn: str):\n",
    "        self.isbn = isbn\n",
    "\n",
    "    def validate(self) -> bool:\n",
    "        return len(self.isbn) > 0\n",
    "\n",
    "book = Book('2211-1212')\n",
    "book.validate()"
   ]
  },
  {
   "cell_type": "markdown",
   "metadata": {
    "pycharm": {
     "name": "#%% md\n"
    }
   },
   "source": [
    "Dość istotny jest tutaj brak modyfikatorów dostępu znanych z innych języków programowania. Domyślnie w języku Python wszystko jest dostępne jako publiczne. Jedynym ograniczeniem jest stosowanie podkreślenia przed nazwą funkcji lub zmiennej, mający symulować pola prywatne. Niemniej jednak jest to bardziej notacja niż rzeczywiste ograniczenia na poziomie kompilacji. Pole `isbn_field` jest statyczne i odwołać się do niego można bez inicjalizacji klasy (`Book.isbn_field`). Konstruktor `__init__` tworzy zmienne dostępne w trakcie działania programu i użycia klasy. Nowością w stosunku do innych języków programowania jest słowo `self` odwołujące się do bieżącej instancji klasy. Funkcja `validate` może być jedynie wywołana po utworzeniu instancji klasy. W tworzeniu instancji klasy nie stosuje się słowa kluczowego `new`.\n",
    "\n",
    "## Dziedziczenie\n",
    "\n",
    "W języku Python dziedziczenie jest wielokrotne tzn. klasa może dziedziczyć po wielu klasach na raz. Dodatkowo priorytet  dziedziczenia jest od prawej do lewej, co ma szczególne znaczenie w momencie, gdy więcej niż jedna klasa zawiera tą samą nazwę funkcji. Kolejny przykład przedstawia taki właśnie przypadek."
   ]
  },
  {
   "cell_type": "code",
   "execution_count": 19,
   "metadata": {
    "pycharm": {
     "name": "#%%\n"
    }
   },
   "outputs": [
    {
     "name": "stdout",
     "output_type": "stream",
     "text": [
      "Class A\n"
     ]
    }
   ],
   "source": [
    "class A:\n",
    "    def test(self):\n",
    "        print('Class A')\n",
    "\n",
    "class B:\n",
    "    def test(self):\n",
    "        print('Class B')\n",
    "\n",
    "class C (A, B):\n",
    "    def print(self):\n",
    "        self.test()\n",
    "\n",
    "\n",
    "c = C()\n",
    "c.print()"
   ]
  },
  {
   "cell_type": "markdown",
   "metadata": {},
   "source": [
    "W przypadku, gdyby na liście dziedziczenia, klasa `B` była przed `A`, wtedy funkcja klasy `B` została by użyta przy wywołaniu. Technika ta ma za zadanie rozwiązanie problemu diamentu (_The diamond problem_ w C++), który polega na tym, że kompilator nie jest w stanie określić, której funkcji klasy pochodnej ma użyć w trakcie wywołania. Dzieje się tak, gdy obie funkcje implementują abstrakcyjną klasę, a pewna klasa szczegółowa dziedziczy z obu z nich. Wywołanie konstruktora klasy bazowej następuje w trakcie wywołania funkcji `super().__init__()` lub poprzez precyzyjniejsze wywołanie `BaseClass.__init__()`, gdzie `BaseClass` jest typem bazowym."
   ]
  },
  {
   "cell_type": "code",
   "execution_count": 20,
   "metadata": {
    "pycharm": {
     "name": "#%%\n"
    }
   },
   "outputs": [
    {
     "name": "stdout",
     "output_type": "stream",
     "text": [
      "Class C\n",
      "Calling super\n",
      "Class A\n",
      "Calling directly A.__init__\n",
      "Class A\n",
      "Calling directly B.__init__\n",
      "Class B\n"
     ]
    }
   ],
   "source": [
    "class A:\n",
    "    def __init__(self):\n",
    "        print('Class A')\n",
    "\n",
    "class B:\n",
    "    def __init__(self):\n",
    "        print('Class B')\n",
    "\n",
    "class C (A, B):\n",
    "    def __init__(self):\n",
    "        print('Class C')\n",
    "        print('Calling super')\n",
    "        super().__init__()\n",
    "        print('Calling directly A.__init__')\n",
    "        A.__init__(self)\n",
    "        print('Calling directly B.__init__')\n",
    "        B.__init__(self)\n",
    "\n",
    "c = C()"
   ]
  },
  {
   "cell_type": "markdown",
   "metadata": {
    "pycharm": {
     "name": "#%% md\n"
    }
   },
   "source": [
    "Powyższy przykład prezentował sposób wywołania konstruktorów bazowych, jednak tą samą technikę można wykorzystać przy wywoływaniu funkcji.\n",
    "\n",
    "## Anotacja `property`\n",
    "\n",
    "Z definicji klasa zawiera zmienne i funkcje, które określają jej cechy. Jak dotąd przedstawiony był sposób tworzenia zmiennych w konstruktorze i definiowania funkcji. Zmienne wchodzące w skład klasy można definiować również jako właściwości. Dostęp do nich wygląda podobnie jak dostęp do pól."
   ]
  },
  {
   "cell_type": "code",
   "execution_count": 21,
   "metadata": {
    "pycharm": {
     "name": "#%%\n"
    }
   },
   "outputs": [
    {
     "data": {
      "text/plain": [
       "'Wiedźmin'"
      ]
     },
     "execution_count": 21,
     "metadata": {},
     "output_type": "execute_result"
    }
   ],
   "source": [
    "class AuthorBook:\n",
    "    def __init__(self, author: str, title: str):\n",
    "        self._author = author\n",
    "        self._title = title\n",
    "\n",
    "    @property\n",
    "    def title(self):\n",
    "        return self._title.title()\n",
    "\n",
    "    @title.setter\n",
    "    def title(self, title: str):\n",
    "        self._title = title\n",
    "        # dodatkowa logika może zostać przekazana tutaj\n",
    "\n",
    "book = AuthorBook('Andrzej Sapkowski', 'Wiedźmin')\n",
    "book.title"
   ]
  },
  {
   "cell_type": "markdown",
   "metadata": {},
   "source": [
    "Stosowanie właściwości ma na celu umożliwienie programiście dodania kodu zawierającego logikę związaną z obsługą zmiany pola (np. przeliczenie powiązanych pól). Bardziej zaawansowanym przykładem stosowania pól jest użycie funkcji specjalnych `__get__` i `__set__`, które umożliwiają tworzenie własnych właściwości bez konieczności stosowania powyższej nomenklatury (kosztem czytelności i prostoty kodu).\n",
    "\n",
    "## Anotacje `staticmethod` i `classmethod`\n",
    "\n",
    "Funkcje statyczne są dość powszechnie stosowane w językach programowania obiektowego. Są to głównie funkcje, niezwiązane z konkretną instancją klasy, ale pod względem funkcjonalnym musi być z nią związana. W języku Python, aby funkcja była statyczna należy dodać anotację `staticmethod`. W argumentach nie może zawierać wskazania `self`, gdyż nie jest w żaden sposób związana z konkretną instancją klasy."
   ]
  },
  {
   "cell_type": "code",
   "execution_count": 22,
   "metadata": {
    "pycharm": {
     "name": "#%%\n"
    }
   },
   "outputs": [],
   "source": [
    "class A:\n",
    "    @staticmethod\n",
    "    def static_test():\n",
    "        pass\n",
    "\n",
    "A.static_test()"
   ]
  },
  {
   "cell_type": "markdown",
   "metadata": {
    "pycharm": {
     "name": "#%% md\n"
    }
   },
   "source": [
    "Druga anotacja ma zastosowanie do inicjalizacji klasy w sposób niestandardowy. Przykładem może byc manualna serializacja i deserializacja  np. ze słownika."
   ]
  },
  {
   "cell_type": "code",
   "execution_count": 23,
   "metadata": {
    "pycharm": {
     "name": "#%%\n"
    }
   },
   "outputs": [],
   "source": [
    "from os import listdir\n",
    "from os.path import join\n",
    "\n",
    "\n",
    "default_data_dir = './data'\n",
    "\n",
    "class PathInput:\n",
    "    def __init__(self, path):\n",
    "        self.fullpath = path\n",
    "\n",
    "    @classmethod\n",
    "    def generate_inputs(cls, data_dir):\n",
    "        data_dir = data_dir or default_data_dir\n",
    "\n",
    "        for name in listdir(data_dir):\n",
    "             yield cls(join(data_dir, name))\n",
    "\n",
    "for path_input in PathInput.generate_inputs('./'):\n",
    "    pass"
   ]
  },
  {
   "cell_type": "markdown",
   "metadata": {
    "pycharm": {
     "name": "#%% md\n"
    }
   },
   "source": [
    "Funkcja `generate_inputs` nie zawiera podobnie jak funkcja statyczna zmiennej `self` wskazującej wartości zmiennych konkretnej instancji klasy. Podstawą różnicą jest argument `cls`, który pozwala tworzyć nową instancję klasy i ulega dziedziczeniu (w nowym typie po dziedziczeniu będzie wskazywał na nowy typ).\n",
    "\n",
    "## Definiowanie klas abstrakcyjnych\n",
    "\n",
    "Język Python nie zawiera interfejsów, a jedynie typy abstrakcyjne. Poniżej znajduje się przykład tworzenia klasy abstrakcyjnej."
   ]
  },
  {
   "cell_type": "code",
   "execution_count": 24,
   "metadata": {
    "pycharm": {
     "name": "#%%\n"
    }
   },
   "outputs": [],
   "source": [
    "import abc\n",
    "\n",
    "class Shape(metaclass=abc.ABCMeta):\n",
    "    @abc.abstractmethod\n",
    "    def area(self):\n",
    "        pass\n",
    "\n",
    "class Rectangle(Shape):\n",
    "   def __init__(self, x,y):\n",
    "      self.x=x\n",
    "      self.y=y\n",
    "   def area(self):\n",
    "      return self.x*self.y"
   ]
  },
  {
   "cell_type": "markdown",
   "metadata": {
    "pycharm": {
     "name": "#%% md\n"
    }
   },
   "source": [
    "W momencie, gdy klasa dziedziczy po typie abstrakcyjnym, lecz nie implementuje jednej z abstrakcyjnych funkcji, środowisko uruchomieniowe wywoła wyjątek `TypeError`.\n",
    "\n",
    "## Mixin\n",
    "\n",
    "Dziedziczenie wielokrotne w języku Python umożliwia tworzenie bardzo wyspecjalizowanych klas, które można wstrzykiwać w hierarchię dziedziczenia, co często nazywane jest kompozycją funkcji. Należy również pamiętać, że nie jest to technika wspierana w samym języku Python, a sposób projektowania klas."
   ]
  },
  {
   "cell_type": "code",
   "execution_count": 25,
   "metadata": {
    "pycharm": {
     "name": "#%%\n"
    }
   },
   "outputs": [],
   "source": [
    "class SerializerMixin:\n",
    "    def Write(self, dict):\n",
    "        pass\n",
    "\n",
    "class SerializableRectangle(SerializerMixin, Rectangle):\n",
    "    pass"
   ]
  },
  {
   "cell_type": "markdown",
   "metadata": {
    "pycharm": {
     "name": "#%% md\n"
    }
   },
   "source": [
    "Stosowanie powyższej techniki pozwala znacząco uprościć kod i jest zgodna z zasadą _DRY_ (Don't Repeat Yourself).\n",
    "\n",
    "## Kontenery na dane\n",
    "\n",
    "Anotacja `dataclass` umożliwia tworzenie prostych klas, których głównym zadaniem jest przechowywanie danych. Implementuje ona podstawowe operacje na danych jak porównywanie czy wyświetlanie informacji (implementacja funkcji `__repr__`)."
   ]
  },
  {
   "cell_type": "code",
   "execution_count": 26,
   "metadata": {
    "pycharm": {
     "name": "#%%\n"
    }
   },
   "outputs": [
    {
     "name": "stdout",
     "output_type": "stream",
     "text": [
      "Lukasz\n",
      "{'name': 'Lukasz', 'surname': 'Strak', 'band': []}\n"
     ]
    }
   ],
   "source": [
    "from dataclasses import dataclass, field, asdict\n",
    "from typing import List\n",
    "\n",
    "@dataclass\n",
    "class Employee:\n",
    "    name: str\n",
    "    surname: str = field(default='Not assigned')\n",
    "    band: List[int] = field(default_factory=list) # wartość inicjalna []\n",
    "\n",
    "\n",
    "emp = Employee(name='Lukasz', surname='Strak')\n",
    "print(emp.name)\n",
    "print(asdict(emp))"
   ]
  },
  {
   "cell_type": "markdown",
   "metadata": {
    "pycharm": {
     "name": "#%% md\n"
    }
   },
   "source": [
    "Użycie modułu `dataclass` pozwala zaoszczędzić wiele czasu na ręcznym tworzeniu klas.\n",
    "\n",
    "## Enums\n",
    "\n",
    "Enumeracje w języku Python są realizowane jako klasa dziedzicząca po `Enum`, a same wyliczenia przechowywane są w statycznych polach, tak jak pokazano w poniższym przykładzie."
   ]
  },
  {
   "cell_type": "code",
   "execution_count": 27,
   "metadata": {
    "pycharm": {
     "name": "#%%\n"
    }
   },
   "outputs": [
    {
     "name": "stdout",
     "output_type": "stream",
     "text": [
      "RED\n",
      "True\n"
     ]
    }
   ],
   "source": [
    "from enum import Enum\n",
    "\n",
    "class Color(Enum):\n",
    "    RED = 0\n",
    "    GREEN = 1\n",
    "    Yellow = 2\n",
    "\n",
    "\n",
    "def print_color(color: Color):\n",
    "    print(color.name)\n",
    "    print(color == Color.RED)\n",
    "\n",
    "\n",
    "print_color(Color.RED)"
   ]
  },
  {
   "cell_type": "markdown",
   "metadata": {
    "pycharm": {
     "name": "#%% md\n"
    }
   },
   "source": [
    "## Informacje o obiekcie w czasie wykonania\n",
    "\n",
    "Biblioteka standardowa zawiera wiele przydatnych funkcji, które umożliwiają uzyskanie informacji o instancji obiektu w czasie dziania programu."
   ]
  },
  {
   "cell_type": "code",
   "execution_count": 28,
   "metadata": {
    "pycharm": {
     "name": "#%%\n"
    }
   },
   "outputs": [
    {
     "name": "stdout",
     "output_type": "stream",
     "text": [
      "<class 'type'>\n",
      "['__class__', '__delattr__', '__dict__', '__dir__', '__doc__', '__eq__', '__format__', '__ge__', '__getattribute__', '__gt__', '__hash__', '__init__', '__init_subclass__', '__le__', '__lt__', '__module__', '__ne__', '__new__', '__reduce__', '__reduce_ex__', '__repr__', '__setattr__', '__sizeof__', '__str__', '__subclasshook__', '__weakref__', 'test']\n",
      "[<class '__main__.B'>, <class '__main__.A'>, <class 'object'>]\n",
      "True\n"
     ]
    }
   ],
   "source": [
    "class A:\n",
    "    pass\n",
    "\n",
    "class B(A):\n",
    "    def test(self):\n",
    "        pass\n",
    "\n",
    "# wyświetla typ danych\n",
    "print(type(B))\n",
    "\n",
    "# dir zwraca wszystkie składowe klasy\n",
    "print(dir(B()))\n",
    "\n",
    "# mro pozwala wyświetlić całą hierarchię dziedziczenia\n",
    "print(type(B).mro(B))\n",
    "\n",
    "# hasattr to funkcja wbudowana w język Python sprawdzająca czy dany typ zawiera funkcję lub pole dane łańcuchem znaków\n",
    "print(hasattr(B,'test'))"
   ]
  },
  {
   "cell_type": "markdown",
   "metadata": {
    "pycharm": {
     "name": "#%% md\n"
    }
   },
   "source": [
    "## Zadania do wykonania\n",
    "\n",
    "### Zadanie 1. Zaprojektuj klasę dla $kd$-drzewa.\n",
    "\n",
    "### Zadanie 2. Zaimplementuj wzorzec projektowy łańcuch odpowiedzialności na przykładzie obsługi żądania _http_ (symulacja), w którym przed faktycznym kodem obsługi błędu ma zostać sprawdzone czy użytkownik może wysłać danego typu żądanie, czy żądanie nie dotyczy pliku, czy liczba żądań na minutę nie jest przekroczona, czy liczba żądań na minutę nie jest przekroczona dla zalogowanego użytkownika, czy przesłany formularz nie jest próbą `sql incjection`.\n",
    "\n",
    "### Zadanie 3. Za pomocą dowolnego wzorca projektowego zaimplementuj mechanizm sprawdzający poprawność wyrażenia postaci:\n",
    "* a + b = c (poprawne),\n",
    "* (a + b = c (niepoprawne),\n",
    "* a + = c (niepoprawne)."
   ]
  },
  {
   "cell_type": "markdown",
   "metadata": {},
   "source": [
    "# Zadanie 1"
   ]
  },
  {
   "cell_type": "code",
   "execution_count": 29,
   "metadata": {},
   "outputs": [
    {
     "name": "stdout",
     "output_type": "stream",
     "text": [
      "2d-drzewo:\n",
      "\n",
      "(3, 6) -> (2, 7), (17, 15)\n",
      "(2, 7) -> None, None\n",
      "(17, 15) -> (6, 12), (13, 15)\n",
      "(6, 12) -> None, (9, 1)\n",
      "(9, 1) -> None, None\n",
      "(13, 15) -> (10, 19), None\n",
      "(10, 19) -> None, None\n",
      "Nie znaleziono wartości (7, 12)\n",
      "3d-drzewo:\n",
      "\n",
      "Wartość (2, 1, 3) została znaleziona\n",
      "(3, 1, 4) -> (2, 3, 7), (4, 3, 4)\n",
      "(2, 3, 7) -> (2, 1, 3), (2, 4, 5)\n",
      "(2, 1, 3) -> None, None\n",
      "(2, 4, 5) -> (1, 4, 4), (0, 5, 7)\n",
      "(1, 4, 4) -> None, None\n",
      "(0, 5, 7) -> None, None\n",
      "(4, 3, 4) -> (6, 1, 4), None\n",
      "(6, 1, 4) -> None, (5, 2, 5)\n",
      "(5, 2, 5) -> (4, 0, 6), (7, 1, 6)\n",
      "(4, 0, 6) -> None, None\n",
      "(7, 1, 6) -> None, None\n"
     ]
    }
   ],
   "source": [
    "from collections import namedtuple\n",
    "\n",
    "class KDTree:\n",
    "    dimensions=0\n",
    "    TreeNode = namedtuple('TreeNode', ['val', 'children'])\n",
    "    ROOT = TreeNode(val=None, children=[None,None])\n",
    "    def __init__(self,dimensions):\n",
    "        self.dimensions = dimensions\n",
    "\n",
    "    def create(self,points):\n",
    "        for i in range(len(points)):\n",
    "            if(i == 0):\n",
    "                self.ROOT = self.TreeNode(points[i], children=[None,None])\n",
    "            else:\n",
    "                self.addElement(self.ROOT,points[i])\n",
    "\n",
    "    def addElement(self,parent,element,depth=0):\n",
    "        axis = depth  % self.dimensions \n",
    "        val = element[axis]\n",
    "        if parent.val[axis] > val:\n",
    "            if parent.children[0] == None:\n",
    "                parent.children[0] = self.TreeNode(val=element, children=[None,None],)\n",
    "            else:\n",
    "                self.addElement(parent.children[0],element,depth + 1)\n",
    "        else:\n",
    "            if parent.children[1] == None:\n",
    "                parent.children[1] = self.TreeNode(val=element, children=[None,None])\n",
    "            else:\n",
    "                self.addElement(parent.children[1],element,depth + 1)   \n",
    "\n",
    "    def remove(self,parent,element):\n",
    "        if parent.children[0] != None:\n",
    "            if parent.children[0].val == element:\n",
    "                print('Wartość usunięta')\n",
    "                parent.children[0]=None\n",
    "            else:\n",
    "                self.remove(parent.children[0],element)\n",
    "        if parent.children[1] != None:\n",
    "            if parent.children[1].val == element:\n",
    "                print('Wartość usunięta')\n",
    "                parent.children[1]=None\n",
    "            else:\n",
    "                self.remove(parent.children[1],element)\n",
    "\n",
    "    def search(self,parent,element,depth=0):\n",
    "        if (parent == None):\n",
    "            return print(f'Nie znaleziono wartości {element}')\n",
    "        if (parent.val == element):\n",
    "            return print(f'Wartość {element} została znaleziona')\n",
    "        axis = depth % self.dimensions\n",
    "        if element[axis] < parent.val[axis]:\n",
    "            return self.search(parent.children[0],element,depth + 1)\n",
    "        return self.search(parent.children[1],element,depth + 1)\n",
    "\n",
    "    def print(self,parent):\n",
    "        print(f'{parent.val} -> {parent.children[0] if(parent.children[0]==None) else parent.children[0].val}, {parent.children[1] if(parent.children[1]==None) else parent.children[1].val}')\n",
    "        if parent.children[0] != None:\n",
    "            self.print(parent.children[0])\n",
    "        if parent.children[1] != None:\n",
    "            self.print(parent.children[1]) \n",
    "\n",
    "tree2d = KDTree(2)\n",
    "tree3d = KDTree(3)\n",
    "\n",
    "points2d = [(3,6),(2,7),(17,15),(6,12),(13,15),(9,1),(10,19)]\n",
    "points3d = [(3,1,4),(2,3,7),(4,3,4),(2,1,3),(2,4,5),(6,1,4),(1,4,4),(0,5,7),(5,2,5),(4,0,6),(7,1,6)]\n",
    "print('2d-drzewo:\\n')\n",
    "tree2d.create(points2d)\n",
    "\n",
    "tree2d.print(tree2d.ROOT)\n",
    "tree2d.search(tree2d.ROOT,(7,12))\n",
    "print('3d-drzewo:\\n')\n",
    "tree3d.create(points3d)\n",
    "tree3d.search(tree3d.ROOT,(2,1,3))\n",
    "tree3d.print(tree3d.ROOT)"
   ]
  },
  {
   "cell_type": "markdown",
   "metadata": {},
   "source": [
    "# Zadanie 2"
   ]
  },
  {
   "cell_type": "code",
   "execution_count": 7,
   "metadata": {},
   "outputs": [
    {
     "name": "stdout",
     "output_type": "stream",
     "text": [
      "Responses:\n",
      " 404 401\n",
      " 200 OK\n",
      "<!DOCTYPE html>\n",
      "<html lang=\"en\">\n",
      "  <head>\n",
      "    <meta charset=\"utf-8\">\n",
      "    <meta http-equiv=\"X-UA-Compatible\" content=\"IE=edge\">\n",
      "    <meta name=\"viewport\" content=\"width=device-width, initial-scale=1\">\n",
      "    <title>PTS - V2</title>\n",
      "\n",
      "    <link href=\"/static/bootstrap/css/bootstrap.css\" rel=\"style...\n",
      " 403 429 429\n",
      " 200 OK\n",
      "<!DOCTYPE html>\n",
      "<html lang=\"en\">\n",
      "  <head>\n",
      "    <meta charset=\"utf-8\">\n",
      "    <meta http-equiv=\"X-UA-Compatible\" content=\"IE=edge\">\n",
      "    <meta name=\"viewport\" content=\"width=device-width, initial-scale=1\">\n",
      "    <title>PTS - V2</title>\n",
      "\n",
      "    <link href=\"/static/bootstrap/css/bootstrap.css\" rel=\"style...\n",
      "\n",
      "\n"
     ]
    }
   ],
   "source": [
    "from __future__ import annotations\n",
    "from abc import ABC, abstractmethod\n",
    "from typing import Any, Optional\n",
    "from collections import deque\n",
    "import requests\n",
    "from datetime import datetime, timedelta\n",
    "\n",
    "timeList = deque(maxlen=5)\n",
    "authorized = False\n",
    "\n",
    "class Handler(ABC):\n",
    "    @abstractmethod\n",
    "    def set_next(self, handler: Handler) -> Handler:\n",
    "        pass\n",
    "\n",
    "    @abstractmethod\n",
    "    def handle(self, request) -> Optional[str]:\n",
    "        pass\n",
    "\n",
    "class AbstractHandler(Handler):\n",
    "    _next_handler: Handler = None\n",
    "\n",
    "    def set_next(self, handler: Handler) -> Handler:\n",
    "        self._next_handler = handler\n",
    "        return handler\n",
    "\n",
    "    @abstractmethod\n",
    "    def handle(self, request: Any) -> str:\n",
    "        if self._next_handler:\n",
    "            return self._next_handler.handle(request)\n",
    "        return None\n",
    "class userRequestHandler(AbstractHandler):#Not logged in user can send message up to 10 char\n",
    "    def handle(self, request: Any) -> str:\n",
    "        if (not authorized) and len(request)>10:\n",
    "            return 401\n",
    "        else:\n",
    "            return super().handle(request)\n",
    "\n",
    "class isFileHandler(AbstractHandler):\n",
    "    def handle(self, request: Any) -> str:\n",
    "        if not isinstance(request, str):\n",
    "            return 404\n",
    "        else:\n",
    "            return super().handle(request)\n",
    "\n",
    "class RequestNumberHandler(AbstractHandler):\n",
    "    def handle(self, request: Any) -> str:\n",
    "        for i in timeList :\n",
    "            if((datetime.now()-i).total_seconds()>60):\n",
    "                timeList.popleft()\n",
    "\n",
    "        if ((not authorized) and len(timeList) >= 5) or (authorized and len(timeList) >= 10):\n",
    "            return 429\n",
    "        else:\n",
    "            return super().handle(request)\n",
    "\n",
    "class SQLInjectionHandler(AbstractHandler):\n",
    "    def handle(self, request: Any) -> str:\n",
    "        if \"'\" in request:\n",
    "            return 403\n",
    "        else:\n",
    "            return super().handle(request)\n",
    "\n",
    "\n",
    "def client_code(handler: Handler, objectToSent) -> None:\n",
    "    link = \"https://ptsv2.com/t/jh5pn-1624563713\"\n",
    "    timeList.append(datetime.now())\n",
    "\n",
    "    result = handler.handle(request)\n",
    "    if result:\n",
    "        print(f\" {result}\", end=\"\")\n",
    "    else:\n",
    "        r = requests.post(link, data = result)\n",
    "        print(\"\\n\",r.status_code, r.reason)\n",
    "        print(r.text[:300] + '...')\n",
    "\n",
    "\n",
    "if __name__ == \"__main__\":\n",
    "    userRequest = userRequestHandler()\n",
    "    isFile = isFileHandler()\n",
    "    requestNumber = RequestNumberHandler()\n",
    "    injection = SQLInjectionHandler()\n",
    "\n",
    "    isFile.set_next(userRequest).set_next(requestNumber).set_next(injection)\n",
    "    print(\"Responses:\")\n",
    "    authorized = False\n",
    "    for request in [55,\"Hello World!\",\"Hi World!\",\"'Lorem\",\"Ipsum\",\"Lorem\"]:\n",
    "        client_code(isFile, request)\n",
    "    authorized = True\n",
    "    client_code(isFile, \"Lorem Ipsum\")\n",
    "    print(\"\\n\")"
   ]
  },
  {
   "cell_type": "markdown",
   "metadata": {},
   "source": [
    "# Zadanie 3"
   ]
  },
  {
   "cell_type": "code",
   "execution_count": 12,
   "metadata": {},
   "outputs": [
    {
     "name": "stdout",
     "output_type": "stream",
     "text": [
      "Is valid?:\n",
      "True\n",
      "False\n",
      "False\n",
      "False\n",
      "True\n",
      "False\n",
      "False\n",
      "\n",
      "\n"
     ]
    }
   ],
   "source": [
    "from __future__ import annotations\n",
    "from abc import ABC, abstractmethod\n",
    "from typing import Any, Optional\n",
    "\n",
    "class Handler(ABC):\n",
    "    @abstractmethod\n",
    "    def set_next(self, handler: Handler) -> Handler:\n",
    "        pass\n",
    " \n",
    "    @abstractmethod\n",
    "    def handle(self, request) -> Optional[str]:\n",
    "        pass\n",
    "\n",
    "\n",
    "class AbstractHandler(Handler):\n",
    "    _next_handler: Handler = None\n",
    "    def set_next(self, handler: Handler) -> Handler:\n",
    "        self._next_handler = handler\n",
    "        return handler\n",
    "\n",
    "    @abstractmethod\n",
    "    def handle(self, request: Any) -> str:\n",
    "        if self._next_handler:\n",
    "            return self._next_handler.handle(request)\n",
    "        return None\n",
    "\n",
    "class HasEquals(AbstractHandler):\n",
    "    def handle(self, request: Any) -> str:\n",
    "        if not request.count('=') == 1:\n",
    "            return False\n",
    "        else:\n",
    "\n",
    "            return super().handle(request)\n",
    "\n",
    "class BracketParser(AbstractHandler):\n",
    "    def handle(self, request: Any) -> str:\n",
    "        expression = request.split(\"=\")\n",
    "        if not (self.parse(expression[0]) and self.parse(expression[1])):\n",
    "            return False\n",
    "        else:\n",
    "            return super().handle(expression)\n",
    "\n",
    "    def parse(self,expression,parenthesis = False):\n",
    "        if not (\"(\" in expression or  \")\" in expression) and not parenthesis:\n",
    "            return True\n",
    "        for i in expression:\n",
    "            if i == '(' and not parenthesis:\n",
    "                return self.parse(expression.replace('(','',1),True)\n",
    "            elif i == ')' and parenthesis:\n",
    "                return self.parse(expression.replace(')','',1)) \n",
    "        return False\n",
    "\n",
    "class ValidateOperation(AbstractHandler):\n",
    "    def handle(self, request: Any) -> str:\n",
    "        if not (self.parse(request[0]) and self.parse(request[1])):\n",
    "            return False\n",
    "        else:\n",
    "            return super().handle(request)\n",
    "    def parse(self,expression,operand = True):\n",
    "        if expression == '' and not operand:\n",
    "            return True\n",
    "        for i in expression:\n",
    "            if i.isalnum() and operand:\n",
    "                return self.parse(expression.replace(i,'',1),False)\n",
    "            elif i in {'+','-','*','/'} and not operand:\n",
    "                return self.parse(expression.replace(i,'',1),True)\n",
    "            elif i in {'+','-','*','/'} and operand:\n",
    "                return False\n",
    "            elif i.isalnum() and not operand:\n",
    "                return False\n",
    "            elif i in {\" \",\"(\",\")\"}:\n",
    "                return self.parse(expression.replace(i,'',1),operand)\n",
    "        return False\n",
    "        \n",
    "def client_code(handler: Handler) -> None:\n",
    "        request = '(a = b + c)'\n",
    "        for request in ['a + b = c','(a = b + c)','(a + b = c','a + = c','(a + b) = (a + c)','=a + x','a + b + c']:\n",
    "            result = handler.handle(request)\n",
    "            if result == None:\n",
    "                print(True)\n",
    "            else:\n",
    "                print(False)\n",
    "        \n",
    "equals = HasEquals()\n",
    "bracket = BracketParser()\n",
    "operation = ValidateOperation()\n",
    "equals.set_next(bracket).set_next(operation)\n",
    "print(\"Is valid?:\")\n",
    "client_code(equals)\n",
    "print(\"\\n\")"
   ]
  },
  {
   "cell_type": "code",
   "execution_count": null,
   "metadata": {},
   "outputs": [],
   "source": []
  }
 ],
 "metadata": {
  "interpreter": {
   "hash": "2232cce0feda495dbaab39ecfda12b4e9c75df0181da683c6fd0c1aaa6fdea1a"
  },
  "kernelspec": {
   "display_name": "Python 3",
   "language": "python",
   "name": "python3"
  },
  "language_info": {
   "codemirror_mode": {
    "name": "ipython",
    "version": 3
   },
   "file_extension": ".py",
   "mimetype": "text/x-python",
   "name": "python",
   "nbconvert_exporter": "python",
   "pygments_lexer": "ipython3",
   "version": "3.9.2"
  }
 },
 "nbformat": 4,
 "nbformat_minor": 1
}
